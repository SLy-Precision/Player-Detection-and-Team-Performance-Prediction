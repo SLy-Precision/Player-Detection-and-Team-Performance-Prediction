{
  "nbformat": 4,
  "nbformat_minor": 0,
  "metadata": {
    "colab": {
      "provenance": [],
      "authorship_tag": "ABX9TyPtdvcq6FyNd1xN5VIdqqv+",
      "include_colab_link": true
    },
    "kernelspec": {
      "name": "python3",
      "display_name": "Python 3"
    },
    "language_info": {
      "name": "python"
    }
  },
  "cells": [
    {
      "cell_type": "markdown",
      "metadata": {
        "id": "view-in-github",
        "colab_type": "text"
      },
      "source": [
        "<a href=\"https://colab.research.google.com/github/SLy-Precision/Player-Detection-and-Team-Performance-Prediction/blob/main/04_AEGIS_Simulations.ipynb\" target=\"_parent\"><img src=\"https://colab.research.google.com/assets/colab-badge.svg\" alt=\"Open In Colab\"/></a>"
      ]
    },
    {
      "cell_type": "markdown",
      "source": [
        "# 🤖 🔮 AEGIS Simulations 🧪 🎰"
      ],
      "metadata": {
        "id": "-7m-CPd1rnnV"
      }
    },
    {
      "cell_type": "markdown",
      "source": [
        "## ⚽ Once we did the scouting using advanced metrics (KPI's) now its time to fine-tunning teams with the new player in roster, here we are gonna get the proyections of performance of Club America with these additions 🕹️\n",
        "\n",
        "### Antonio Guerrero"
      ],
      "metadata": {
        "id": "8ZxcGhB_roNf"
      }
    },
    {
      "cell_type": "code",
      "source": [
        "# Lets import the libraries we are gonna use 🐍\n",
        "\n",
        "# Statsbomb api and more\n",
        "!pip install --quiet statsbombpy\n",
        "!pip install --quiet mplsoccer\n",
        "!pip install --quiet highlight_text\n",
        "!pip install --quiet xgboost\n",
        "\n",
        "# Libraries for the data manipulation and plot\n",
        "from statsbombpy import sb\n",
        "from tqdm import tqdm\n",
        "import pandas as pd\n",
        "from mplsoccer import VerticalPitch, Pitch, Sbapi\n",
        "from highlight_text import ax_text, fig_text\n",
        "import matplotlib.pyplot as plt\n",
        "from matplotlib.colors import LinearSegmentedColormap\n",
        "import matplotlib.pyplot as plt\n",
        "import matplotlib.patheffects as path_effects\n",
        "import seaborn as sns\n",
        "import numpy as np\n",
        "from collections import defaultdict\n",
        "from collections import Counter\n",
        "from itertools import groupby\n",
        "from mplsoccer import Pitch\n",
        "import random\n",
        "\n",
        "# Machine Learning\n",
        "\n",
        "from sklearn.model_selection import train_test_split\n",
        "import xgboost as xgb\n",
        "from sklearn.utils.class_weight import compute_sample_weight"
      ],
      "metadata": {
        "id": "-oalE_lQroZx"
      },
      "execution_count": 61,
      "outputs": []
    },
    {
      "cell_type": "code",
      "source": [
        "# Access to drive and files\n",
        "\n",
        "from google.colab import drive\n",
        "drive.mount('/content/drive')\n",
        "\n",
        "path = '/content/drive/My Drive/Proyect_Hackathon/'\n",
        "\n",
        "# Data needed\n",
        "\n",
        "df_AEGIS = pd.read_csv(path + 'AEGIS_tunning_last_season.csv')\n",
        "df_AEGIS_simulation = pd.read_pickle(path + 'df_with_context0.pkl')\n",
        "df_AEGIS_map = pd.read_csv(path + 'AEGIS_data.csv')"
      ],
      "metadata": {
        "colab": {
          "base_uri": "https://localhost:8080/"
        },
        "id": "FscYehoGsuoL",
        "outputId": "d83e7746-513e-4b34-b9aa-7e6905ce25ee"
      },
      "execution_count": 62,
      "outputs": [
        {
          "output_type": "stream",
          "name": "stdout",
          "text": [
            "Drive already mounted at /content/drive; to attempt to forcibly remount, call drive.mount(\"/content/drive\", force_remount=True).\n"
          ]
        }
      ]
    },
    {
      "cell_type": "code",
      "source": [
        "id_america = 1229\n",
        "team_name_prefix = 'club_america'"
      ],
      "metadata": {
        "id": "S6BxWU0TUnHO"
      },
      "execution_count": 63,
      "outputs": []
    },
    {
      "cell_type": "markdown",
      "source": [
        "### 🤼‍♀ Analysis of Substitutions"
      ],
      "metadata": {
        "id": "HvNQvFT0Hlga"
      }
    },
    {
      "cell_type": "code",
      "source": [
        "array_recommendations = [10846,5738,27904]\n",
        "array_replaced = [30944,35690,29265]"
      ],
      "metadata": {
        "id": "qvb8AtUwHppY"
      },
      "execution_count": 64,
      "outputs": []
    },
    {
      "cell_type": "code",
      "source": [
        "# DATA PREPARATION\n",
        "df_AEGIS_simulation['team_id'] = np.where(\n",
        "    df_AEGIS_simulation['IsHomeTeam'] == 1,\n",
        "    df_AEGIS_simulation['home_team_id'],\n",
        "    df_AEGIS_simulation['away_team_id']\n",
        ")\n",
        "\n",
        "\n",
        "# ANALYSIS: COUNT EVENTS\n",
        "df_america = df_AEGIS_simulation[df_AEGIS_simulation['team_id'] == id_america]\n",
        "replaced_player_events = {}\n",
        "recommended_player_events = {}\n",
        "\n",
        "print(f\"--- Counting Events for Players to be Replaced (Context: Team ID {id_america}) ---\")\n",
        "for player_id in array_replaced:\n",
        "    count = df_america[df_america['playerId'] == player_id].shape[0]\n",
        "    replaced_player_events[player_id] = count\n",
        "    print(f\"Player ID {player_id}: {count} events\")\n",
        "\n",
        "print(\"\\n--- Counting Events for Recommended Players (Context: All Teams) ---\")\n",
        "for player_id in array_recommendations:\n",
        "    count = df_AEGIS_simulation[df_AEGIS_simulation['playerId'] == player_id].shape[0]\n",
        "    recommended_player_events[player_id] = count\n",
        "    print(f\"Player ID {player_id}: {count} events\")\n",
        "\n",
        "\n",
        "# VISUALIZATION: GENERATE AND DISPLAY BAR CHARTS\n",
        "\n",
        "print(\"\\n--- Generating Comparison Charts ---\")\n",
        "for replaced_id, recommended_id in zip(array_replaced, array_recommendations):\n",
        "    replaced_count = replaced_player_events.get(replaced_id, 0)\n",
        "    recommended_count = recommended_player_events.get(recommended_id, 0)\n",
        "\n",
        "    players_labels = [f'Replaced Player\\n(ID: {replaced_id})', f'Recommended Player\\n(ID: {recommended_id})']\n",
        "    event_counts = [replaced_count, recommended_count]\n",
        "\n",
        "    plt.figure(figsize=(8, 6))\n",
        "    bars = plt.bar(players_labels, event_counts, color=['#ffff00', '#0000ff'])\n",
        "\n",
        "    plt.ylabel('Total Number of Events in Dataset')\n",
        "    plt.title(f'Event Volume Comparison: Player {replaced_id} vs. Player {recommended_id}')\n",
        "    plt.grid(axis='y', linestyle='--', alpha=0.7)\n",
        "\n",
        "    for bar in bars:\n",
        "        yval = bar.get_height()\n",
        "        plt.text(bar.get_x() + bar.get_width()/2.0, yval, int(yval), va='bottom', ha='center', fontsize=12, fontweight='bold')\n",
        "\n",
        "    filename = f'comparison_player_{replaced_id}_vs_{recommended_id}.png'\n",
        "    plt.savefig(filename)\n",
        "    print(f\"Chart saved: {filename}\")\n",
        "\n",
        "    plt.show()\n",
        "\n",
        "    plt.close()"
      ],
      "metadata": {
        "colab": {
          "base_uri": "https://localhost:8080/",
          "height": 1000
        },
        "id": "BG9YZxtMIqsq",
        "outputId": "9594de21-cd71-4b6e-9a89-1ff00c585927"
      },
      "execution_count": 65,
      "outputs": [
        {
          "output_type": "stream",
          "name": "stdout",
          "text": [
            "--- Counting Events for Players to be Replaced (Context: Team ID 1229) ---\n",
            "Player ID 30944: 2538 events\n",
            "Player ID 35690: 3119 events\n",
            "Player ID 29265: 3534 events\n",
            "\n",
            "--- Counting Events for Recommended Players (Context: All Teams) ---\n",
            "Player ID 10846: 2398 events\n",
            "Player ID 5738: 2929 events\n",
            "Player ID 27904: 7081 events\n",
            "\n",
            "--- Generating Comparison Charts ---\n",
            "Chart saved: comparison_player_30944_vs_10846.png\n"
          ]
        },
        {
          "output_type": "display_data",
          "data": {
            "text/plain": [
              "<Figure size 800x600 with 1 Axes>"
            ],
            "image/png": "[encoded data removed]"
          },
          "metadata": {}
        },
        {
          "output_type": "stream",
          "name": "stdout",
          "text": [
            "Chart saved: comparison_player_35690_vs_5738.png\n"
          ]
        },
        {
          "output_type": "display_data",
          "data": {
            "text/plain": [
              "<Figure size 800x600 with 1 Axes>"
            ],
            "image/png": "[encoded data removed]"
          },
          "metadata": {}
        },
        {
          "output_type": "stream",
          "name": "stdout",
          "text": [
            "Chart saved: comparison_player_29265_vs_27904.png\n"
          ]
        },
        {
          "output_type": "display_data",
          "data": {
            "text/plain": [
              "<Figure size 800x600 with 1 Axes>"
            ],
            "image/png": "[encoded data removed]"
          },
          "metadata": {}
        }
      ]
    },
    {
      "cell_type": "markdown",
      "source": [
        "### Functions and pre-charged models we are gonna use:"
      ],
      "metadata": {
        "id": "eNsByHVn5Vi0"
      }
    },
    {
      "cell_type": "code",
      "source": [
        "# Here we put all the functions for the simulations (most of them from the previous notebooks)\n",
        "\n",
        "# Lets precharge the function of context to faster compilation of simulations\n",
        "\n",
        "def create_and_save_full_context_df(df, seq_len=5, output_filename='df_with_context0.pkl'):\n",
        "    \"\"\"\n",
        "    Performs the heavy lifting of creating the sequential context for the entire dataset\n",
        "    and saves it to a file. This only needs to be run once.\n",
        "    \"\"\"\n",
        "    print(f\"--- 🦾 Starting Heavy Pre-processing for all {len(df)} events... ---\")\n",
        "    print(\"This will take a long time, but you only have to do it once!\")\n",
        "\n",
        "    # Define the features that will form the context\n",
        "    context_features = [\n",
        "        'EventTypeId', 'X_norm', 'Y_norm', 'IsHomeTeam', 'IsAccurate', 'IsGoal',\n",
        "        'TimeDelta', 'minute_norm', 'HomeScore_norm', 'AwayScore_norm'\n",
        "    ]\n",
        "\n",
        "    # We work on a copy to be safe\n",
        "    data = df.copy()\n",
        "\n",
        "    # The slow loop to create the \"rear-view mirror\"\n",
        "    for i in range(1, seq_len + 1):\n",
        "        for feature in context_features:\n",
        "            new_col_name = f'c{i}_{feature}'\n",
        "            print(f\"Creating context feature: {new_col_name}...\")\n",
        "            # Group by match and shift to look back in time\n",
        "            data[new_col_name] = data.groupby('matchId')[feature].shift(i)\n",
        "\n",
        "    # Clean up rows at the beginning of matches that don't have a full 5-event history\n",
        "    data.dropna(subset=[f'c{seq_len}_{context_features[0]}'], inplace=True)\n",
        "\n",
        "    # Save the processed DataFrame using the efficient pickle format\n",
        "    print(f\"\\nSaving the context-rich DataFrame to '{output_filename}'...\")\n",
        "    data.to_pickle(output_filename)\n",
        "\n",
        "    print(f\"✅ Pre-processing complete! Your data is saved and ready for fast training.\")\n",
        "    return data\n",
        "\n",
        "# Function to create hibrid dfs\n",
        "\n",
        "def create_hybrid_dataset(base_df, team_id, player_out_id, player_in_id):\n",
        "    \"\"\"\n",
        "    Creates a hybrid dataset for fine-tuning by replacing one player with another.\n",
        "\n",
        "    Args:\n",
        "        base_df (pd.DataFrame): The full, original DataFrame with all event data.\n",
        "        team_id (int): The unique ID of the team to modify.\n",
        "        player_out_id (int): The ID of the player to remove from the team.\n",
        "        player_in_id (int): The ID of the player to add to the team.\n",
        "\n",
        "    Returns:\n",
        "        pd.DataFrame: A new DataFrame ready for context creation and fine-tuning.\n",
        "    \"\"\"\n",
        "    print(f\"--- Creating Hybrid Dataset for Team ID: {team_id} ---\")\n",
        "    print(f\"  - Removing Player ID: {player_out_id}\")\n",
        "    print(f\"  - Adding Player ID: {player_in_id}\\n\")\n",
        "\n",
        "    # Create a 'team_id' column for accurate event ownership\n",
        "    if 'team_id' not in base_df.columns:\n",
        "        print(\"Creating 'team_id' column...\")\n",
        "        base_df['team_id'] = np.where(\n",
        "            base_df['IsHomeTeam'] == 1,\n",
        "            base_df['home_team_id'],\n",
        "            base_df['away_team_id']\n",
        "        )\n",
        "\n",
        "    # Isolate all events from the target team\n",
        "    df_team = base_df[base_df['team_id'] == team_id]\n",
        "    print(f\"Original event count for team {team_id}: {len(df_team)}\")\n",
        "\n",
        "    # Remove all events of the player who is leaving\n",
        "    df_team_without_player = df_team[df_team['playerId'] != player_out_id]\n",
        "    print(f\"Event count after removing player {player_out_id}: {len(df_team_without_player)}\")\n",
        "\n",
        "    # Get all events of the player who is joining from the entire dataset\n",
        "    df_player_in = base_df[base_df['playerId'] == player_in_id]\n",
        "    print(f\"Found {len(df_player_in)} events for incoming player {player_in_id}\")\n",
        "\n",
        "    # Concatenate the two DataFrames to create the final hybrid dataset\n",
        "    df_hybrid = pd.concat([df_team_without_player, df_player_in], ignore_index=True)\n",
        "    print(f\"\\n✅ Final hybrid dataset created with {len(df_hybrid)} total events.\\n\")\n",
        "\n",
        "    return df_hybrid\n",
        "\n",
        "# Functions to fine tunning\n",
        "\n",
        "def prepare_features_and_target(context_df, target_col='EventTypeId', mapping=None):\n",
        "    \"\"\"\n",
        "    Prepares features (X) and target (y) directly from a\n",
        "    provided context DataFrame. It no longer filters by match_id.\n",
        "    \"\"\"\n",
        "    data = context_df.copy()\n",
        "\n",
        "    # Prepare y (the target variable)\n",
        "    y = data[target_col]\n",
        "    if mapping:\n",
        "        y = y.map(mapping)\n",
        "\n",
        "    # Prepare X (the features) by selecting ONLY the context columns ('c1_', 'c2_', etc.)\n",
        "    context_cols = [col for col in data.columns if col.startswith('c')]\n",
        "    X = data[context_cols]\n",
        "\n",
        "    return X, y\n",
        "\n",
        "\n",
        "def prepare_features_with_prediction(context_df, event_type_model, target_col):\n",
        "    \"\"\"\n",
        "    CORRECTED VERSION: Prepares features from a context_df and adds the\n",
        "    cascaded prediction from a previously trained model.\n",
        "    \"\"\"\n",
        "    # Use the new, simpler base function\n",
        "    X, y_target = prepare_features_and_target(context_df, target_col=target_col)\n",
        "\n",
        "    print(f\"Generating EventType predictions for {len(X)} rows...\")\n",
        "    # Ensure feature names match what the model was trained on to avoid errors\n",
        "    X_for_pred = X[event_type_model.get_booster().feature_names]\n",
        "    predicted_event_type = event_type_model.predict(X_for_pred)\n",
        "    X['predicted_EventTypeId'] = predicted_event_type\n",
        "\n",
        "    return X, y_target\n",
        "\n",
        "def finetune_classifier_player_replacement(train_df, val_df, base_model_path, new_model_path,\n",
        "                                           is_goal_model=False, event_type_model=None,\n",
        "                                           class_mapping=None, num_classes=None):\n",
        "    \"\"\"\n",
        "    CORRECTED Fine-Tuning for Classifiers, designed for player replacement.\n",
        "    Accepts specific training and validation dataframes.\n",
        "    \"\"\"\n",
        "    print(f\"\\n--- 🦾 Starting Player Replacement Fine-Tuning for: {new_model_path} ---\")\n",
        "\n",
        "    target_col = 'IsGoal' if is_goal_model else 'IsAccurate' if event_type_model else 'EventTypeId'\n",
        "\n",
        "    # Prepare data using the corrected functions on the provided dataframes\n",
        "    if event_type_model:\n",
        "        X_train, y_train = prepare_features_with_prediction(train_df, event_type_model, target_col)\n",
        "        X_val, y_val = prepare_features_with_prediction(val_df, event_type_model, target_col)\n",
        "    else:\n",
        "        X_train, y_train = prepare_features_and_target(train_df, target_col, class_mapping)\n",
        "        X_val, y_val = prepare_features_and_target(val_df, target_col, class_mapping)\n",
        "\n",
        "    # Logic for the specialized goal model\n",
        "    if is_goal_model:\n",
        "        train_mask = (train_df['EventTypeId'] == 16)\n",
        "        X_train, y_train = X_train[train_mask], y_train[train_mask]\n",
        "        val_mask = (val_df['EventTypeId'] == 16)\n",
        "        X_val, y_val = X_val[val_mask], y_val[val_mask]\n",
        "\n",
        "    sample_weights = compute_sample_weight(class_weight='balanced', y=y_train)\n",
        "\n",
        "    # Initialize the model\n",
        "    finetuned_model = xgb.XGBClassifier(\n",
        "        objective='multi:softprob' if num_classes else 'binary:logistic',\n",
        "        num_class=num_classes if num_classes else None,\n",
        "        eval_metric='mlogloss' if num_classes else 'logloss',\n",
        "        learning_rate=0.01, n_estimators=500, early_stopping_rounds=20,\n",
        "        use_label_encoder=False, random_state=42\n",
        "    )\n",
        "\n",
        "    print(\"Starting fine-tuning...\")\n",
        "    # The base_model is passed to the .fit() method for incremental training\n",
        "    finetuned_model.fit(X_train, y_train,\n",
        "                        eval_set=[(X_val, y_val)],\n",
        "                        verbose=100,\n",
        "                        sample_weight=sample_weights,\n",
        "                        xgb_model=base_model_path # Path to the pre-trained model file\n",
        "                       )\n",
        "\n",
        "    finetuned_model.save_model(new_model_path)\n",
        "    print(f\"✅ Fine-tuned model saved to: {new_model_path}\")\n",
        "    return finetuned_model\n",
        "\n",
        "\n",
        "def finetune_regressor_player_replacement(train_df, val_df, base_model_path, new_model_path, target_col, event_type_model):\n",
        "    \"\"\"\n",
        "    CORRECTED Fine-Tuning for Regressors, designed for player replacement.\n",
        "    \"\"\"\n",
        "    print(f\"\\n--- 🦾 Starting Player Replacement Fine-Tuning for: {new_model_path} ---\")\n",
        "\n",
        "    # Prepare data using the corrected functions\n",
        "    X_train, y_train = prepare_features_with_prediction(train_df, event_type_model, target_col)\n",
        "    X_val, y_val = prepare_features_with_prediction(val_df, event_type_model, target_col)\n",
        "\n",
        "    if target_col == 'TimeDelta':\n",
        "        y_train, y_val = np.log1p(y_train), np.log1p(y_val)\n",
        "\n",
        "    # Initialize the model\n",
        "    finetuned_model = xgb.XGBRegressor(\n",
        "        objective='reg:squarederror', eval_metric='rmse', learning_rate=0.01,\n",
        "        n_estimators=500, early_stopping_rounds=20, random_state=42\n",
        "    )\n",
        "\n",
        "    print(\"Starting fine-tuning...\")\n",
        "    finetuned_model.fit(X_train, y_train,\n",
        "                        eval_set=[(X_val, y_val)],\n",
        "                        verbose=100,\n",
        "                        xgb_model=base_model_path\n",
        "                       )\n",
        "\n",
        "    finetuned_model.save_model(new_model_path)\n",
        "    print(f\"✅ Fine-tuned model saved to: {new_model_path}\")\n",
        "    return finetuned_model"
      ],
      "metadata": {
        "id": "QflljS_v5Y0F"
      },
      "execution_count": 66,
      "outputs": []
    },
    {
      "cell_type": "code",
      "source": [
        "# Here we charge the pre-trained models before and create the ensembled model\n",
        "\n",
        "# Lets charge all the models\n",
        "\n",
        "# --- 1: Load the Trained Model from the JSON File ---\n",
        "print(\"Step 1: Loading the trained AEGIS EventTypeModel from file... 📂\")\n",
        "\n",
        "# Create a new, empty XGBoost model instance\n",
        "event_type_model = xgb.XGBClassifier()\n",
        "\n",
        "model_filename = path + 'event_type_model1.json'\n",
        "\n",
        "# Load the trained state into the empty model\n",
        "event_type_model.load_model(model_filename)\n",
        "\n",
        "print(\"✅ EventTypeModel loaded successfully!\")\n",
        "\n",
        "# --- 2: Load the Trained Model from the JSON File ---\n",
        "print(\"Step 2: Loading the trained AEGIS AccuracyModel from file... 📂\")\n",
        "\n",
        "# Create a new, empty XGBoost model instance\n",
        "accuracy_model = xgb.XGBClassifier()\n",
        "\n",
        "model_filename = path + 'accuracy_model1.json'\n",
        "\n",
        "# Load the trained state into the empty model\n",
        "accuracy_model.load_model(model_filename)\n",
        "\n",
        "print(\"✅ AccuracyModel loaded successfully!\")\n",
        "\n",
        "# --- 3: Load the Trained Model from the JSON File ---\n",
        "\n",
        "print(\"Step 3: Loading the trained AEGIS GoalModel from file... 📂\")\n",
        "\n",
        "# Create a new, empty XGBoost model instance\n",
        "goal_model = xgb.XGBClassifier()\n",
        "\n",
        "model_filename = path + 'goal_model0.json'\n",
        "\n",
        "# Load the trained state into the empty model\n",
        "goal_model.load_model(model_filename)\n",
        "\n",
        "print(\"✅ GoalModel loaded successfully!\")\n",
        "\n",
        "# --- 4: Load the Trained Model from the JSON File ---\n",
        "\n",
        "print(\"Step 4: Loading the trained AEGIS XModel from file... 📂\")\n",
        "\n",
        "# Create a new, empty XGBoost model instance\n",
        "# Use XGBRegressor for regression models\n",
        "x_location = xgb.XGBRegressor()\n",
        "\n",
        "model_filename = path + 'x_model0.json'\n",
        "\n",
        "# Load the trained state into the empty model\n",
        "x_location.load_model(model_filename)\n",
        "\n",
        "print(\"✅ XModel loaded successfully!\")\n",
        "\n",
        "# --- 4: Load the Trained Model from the JSON File ---\n",
        "\n",
        "print(\"Step 5: Loading the trained AEGIS YModel from file... 📂\")\n",
        "\n",
        "# Create a new, empty XGBoost model instance\n",
        "# Use XGBRegressor for regression models\n",
        "y_location = xgb.XGBRegressor()\n",
        "\n",
        "model_filename = path + 'y_model0.json'\n",
        "\n",
        "# Load the trained state into the empty model\n",
        "y_location.load_model(model_filename)\n",
        "\n",
        "print(\"✅ YModel loaded successfully!\")\n",
        "\n",
        "# --- 5: Load the Trained Model from the JSON File ---\n",
        "\n",
        "print(\"Step 6: Loading the trained AEGIS TimeDeltaModel from file... 📂\")\n",
        "\n",
        "# Create a new, empty XGBoost model instance\n",
        "# Use XGBRegressor for regression models\n",
        "timedelta_model = xgb.XGBRegressor()\n",
        "\n",
        "model_filename = path + 'timedelta_model0.json'\n",
        "\n",
        "# Load the trained state into the empty model\n",
        "timedelta_model.load_model(model_filename)"
      ],
      "metadata": {
        "colab": {
          "base_uri": "https://localhost:8080/"
        },
        "id": "8PTlcG7p8iGo",
        "outputId": "1e56f237-0985-43df-b519-6763d5a0677f"
      },
      "execution_count": 67,
      "outputs": [
        {
          "output_type": "stream",
          "name": "stdout",
          "text": [
            "Step 1: Loading the trained AEGIS EventTypeModel from file... 📂\n",
            "✅ EventTypeModel loaded successfully!\n",
            "Step 2: Loading the trained AEGIS AccuracyModel from file... 📂\n",
            "✅ AccuracyModel loaded successfully!\n",
            "Step 3: Loading the trained AEGIS GoalModel from file... 📂\n",
            "✅ GoalModel loaded successfully!\n",
            "Step 4: Loading the trained AEGIS XModel from file... 📂\n",
            "✅ XModel loaded successfully!\n",
            "Step 5: Loading the trained AEGIS YModel from file... 📂\n",
            "✅ YModel loaded successfully!\n",
            "Step 6: Loading the trained AEGIS TimeDeltaModel from file... 📂\n"
          ]
        }
      ]
    },
    {
      "cell_type": "code",
      "source": [
        "# Mapping\n",
        "\n",
        "# Get all unique event types from your final, cleaned DataFrame\n",
        "all_event_types = sorted(df_AEGIS_map['EventTypeId'].unique())\n",
        "\n",
        "# Create the mapping dictionary\n",
        "class_mapping = {original_id: new_id for new_id, original_id in enumerate(all_event_types)}\n",
        "\n",
        "print(\"--- Class Mapping Re-created ---\")\n",
        "print(f\"Total unique event types (classes): {len(class_mapping)}\")\n",
        "print(\"\\nThis is your 'translator':\")\n",
        "print(class_mapping)\n",
        "\n",
        "event_name_map = {\n",
        "    18: 'Half Start',\n",
        "    30: 'Pass',\n",
        "    42: 'Ball Receipt*',\n",
        "    43: 'Carry',\n",
        "    17: 'Pressure',\n",
        "    14: 'Dribble',\n",
        "    4:  'Duel',\n",
        "    9:  'Clearance',\n",
        "    3:  'Dispossessed',\n",
        "    2:  'Ball Recovery',\n",
        "    6:  'Block',\n",
        "    22: 'Foul Committed',\n",
        "    21: 'Foul Won',\n",
        "    16: 'Shot',\n",
        "    23: 'Goal Keeper',\n",
        "    39: 'Dribbled Past',\n",
        "    38: 'Miscontrol',\n",
        "    27: 'Player Off',\n",
        "    26: 'Player On',\n",
        "    10: 'Interception',\n",
        "    33: '50/50',\n",
        "    34: 'Half End',\n",
        "    40: 'Injury Stoppage',\n",
        "    19: 'Substitution',\n",
        "    36: 'Tactical Shift',\n",
        "    24: 'Bad Behaviour',\n",
        "    41: 'Referee Ball-Drop',\n",
        "    37: 'Error',\n",
        "    28: 'Shield',\n",
        "    8:  'Offside',\n",
        "    25: 'Own Goal For',\n",
        "    20: 'Own Goal Against'\n",
        "}\n",
        "\n",
        "num_classes = len(class_mapping)"
      ],
      "metadata": {
        "colab": {
          "base_uri": "https://localhost:8080/"
        },
        "id": "tPCWZ1v29Zp8",
        "outputId": "9f54f4c2-20fd-40f6-8f57-d9b5a4c63343"
      },
      "execution_count": 68,
      "outputs": [
        {
          "output_type": "stream",
          "name": "stdout",
          "text": [
            "--- Class Mapping Re-created ---\n",
            "Total unique event types (classes): 32\n",
            "\n",
            "This is your 'translator':\n",
            "{np.int64(2): 0, np.int64(3): 1, np.int64(4): 2, np.int64(6): 3, np.int64(8): 4, np.int64(9): 5, np.int64(10): 6, np.int64(14): 7, np.int64(16): 8, np.int64(17): 9, np.int64(18): 10, np.int64(19): 11, np.int64(20): 12, np.int64(21): 13, np.int64(22): 14, np.int64(23): 15, np.int64(24): 16, np.int64(25): 17, np.int64(26): 18, np.int64(27): 19, np.int64(28): 20, np.int64(30): 21, np.int64(33): 22, np.int64(34): 23, np.int64(36): 24, np.int64(37): 25, np.int64(38): 26, np.int64(39): 27, np.int64(40): 28, np.int64(41): 29, np.int64(42): 30, np.int64(43): 31}\n"
          ]
        }
      ]
    },
    {
      "cell_type": "markdown",
      "source": [
        "## ⚠️ Simulation Player 1:"
      ],
      "metadata": {
        "id": "ZgnnXfUtHYmK"
      }
    },
    {
      "cell_type": "code",
      "source": [
        "# We take the first\n",
        "\n",
        "id_america = 1229\n",
        "\n",
        "player_enter0 = array_recommendations[0]\n",
        "player_out0 = array_replaced[0]\n",
        "\n",
        "print(f\"Player entering: {player_enter0}\")\n",
        "print(f\"Player leaving: {player_out0}\")\n",
        "\n",
        "# First case out A.Dávila and goes in Murillo Roma"
      ],
      "metadata": {
        "colab": {
          "base_uri": "https://localhost:8080/"
        },
        "id": "SBQG2AIPHifr",
        "outputId": "4981fc8d-f252-4010-ce9c-a44f3c1d5b52"
      },
      "execution_count": 69,
      "outputs": [
        {
          "output_type": "stream",
          "name": "stdout",
          "text": [
            "Player entering: 10846\n",
            "Player leaving: 30944\n"
          ]
        }
      ]
    },
    {
      "cell_type": "code",
      "source": [
        "# Creation of hibrid df for the player\n",
        "\n",
        "df_AEGIS_simulation0 = create_hybrid_dataset(\n",
        "    base_df=df_AEGIS,\n",
        "    team_id=id_america,\n",
        "    player_out_id=player_out0,\n",
        "    player_in_id=player_enter0\n",
        ")"
      ],
      "metadata": {
        "colab": {
          "base_uri": "https://localhost:8080/"
        },
        "id": "MTh3uF6U58YT",
        "outputId": "c0da5ad8-e6f2-4ab7-808f-0580c70c720a"
      },
      "execution_count": 70,
      "outputs": [
        {
          "output_type": "stream",
          "name": "stdout",
          "text": [
            "--- Creating Hybrid Dataset for Team ID: 1229 ---\n",
            "  - Removing Player ID: 30944\n",
            "  - Adding Player ID: 10846\n",
            "\n",
            "Creating 'team_id' column...\n",
            "Original event count for team 1229: 84213\n",
            "Event count after removing player 30944: 81668\n",
            "Found 2398 events for incoming player 10846\n",
            "\n",
            "✅ Final hybrid dataset created with 84066 total events.\n",
            "\n"
          ]
        }
      ]
    },
    {
      "cell_type": "code",
      "source": [
        "# Next step is create the context df using this new df\n",
        "\n",
        "df_AEGIS_simulation0 = create_and_save_full_context_df(\n",
        "    df=df_AEGIS_simulation0,\n",
        "    seq_len=5,\n",
        "    output_filename='df_AEGIS_simulation0.pkl'\n",
        ")"
      ],
      "metadata": {
        "colab": {
          "base_uri": "https://localhost:8080/"
        },
        "id": "wHZDVlVi7d_Z",
        "outputId": "0eca301c-d76e-487b-faf4-599eb7eaece8"
      },
      "execution_count": 71,
      "outputs": [
        {
          "output_type": "stream",
          "name": "stdout",
          "text": [
            "--- 🦾 Starting Heavy Pre-processing for all 84066 events... ---\n",
            "This will take a long time, but you only have to do it once!\n",
            "Creating context feature: c1_EventTypeId...\n",
            "Creating context feature: c1_X_norm...\n",
            "Creating context feature: c1_Y_norm...\n",
            "Creating context feature: c1_IsHomeTeam...\n",
            "Creating context feature: c1_IsAccurate...\n",
            "Creating context feature: c1_IsGoal...\n",
            "Creating context feature: c1_TimeDelta...\n",
            "Creating context feature: c1_minute_norm...\n",
            "Creating context feature: c1_HomeScore_norm...\n",
            "Creating context feature: c1_AwayScore_norm...\n",
            "Creating context feature: c2_EventTypeId...\n",
            "Creating context feature: c2_X_norm...\n",
            "Creating context feature: c2_Y_norm...\n",
            "Creating context feature: c2_IsHomeTeam...\n",
            "Creating context feature: c2_IsAccurate...\n",
            "Creating context feature: c2_IsGoal...\n",
            "Creating context feature: c2_TimeDelta...\n",
            "Creating context feature: c2_minute_norm...\n",
            "Creating context feature: c2_HomeScore_norm...\n",
            "Creating context feature: c2_AwayScore_norm...\n",
            "Creating context feature: c3_EventTypeId...\n",
            "Creating context feature: c3_X_norm...\n",
            "Creating context feature: c3_Y_norm...\n",
            "Creating context feature: c3_IsHomeTeam...\n",
            "Creating context feature: c3_IsAccurate...\n",
            "Creating context feature: c3_IsGoal...\n",
            "Creating context feature: c3_TimeDelta...\n",
            "Creating context feature: c3_minute_norm...\n",
            "Creating context feature: c3_HomeScore_norm...\n",
            "Creating context feature: c3_AwayScore_norm...\n",
            "Creating context feature: c4_EventTypeId...\n",
            "Creating context feature: c4_X_norm...\n",
            "Creating context feature: c4_Y_norm...\n",
            "Creating context feature: c4_IsHomeTeam...\n",
            "Creating context feature: c4_IsAccurate...\n",
            "Creating context feature: c4_IsGoal...\n",
            "Creating context feature: c4_TimeDelta...\n",
            "Creating context feature: c4_minute_norm...\n",
            "Creating context feature: c4_HomeScore_norm...\n",
            "Creating context feature: c4_AwayScore_norm...\n",
            "Creating context feature: c5_EventTypeId...\n",
            "Creating context feature: c5_X_norm...\n",
            "Creating context feature: c5_Y_norm...\n",
            "Creating context feature: c5_IsHomeTeam...\n",
            "Creating context feature: c5_IsAccurate...\n",
            "Creating context feature: c5_IsGoal...\n",
            "Creating context feature: c5_TimeDelta...\n",
            "Creating context feature: c5_minute_norm...\n",
            "Creating context feature: c5_HomeScore_norm...\n",
            "Creating context feature: c5_AwayScore_norm...\n",
            "\n",
            "Saving the context-rich DataFrame to 'df_AEGIS_simulation0.pkl'...\n",
            "✅ Pre-processing complete! Your data is saved and ready for fast training.\n"
          ]
        }
      ]
    },
    {
      "cell_type": "code",
      "source": [
        "# Save and charge from unit (Once you did the steps before yo can run only this cell to make new predictions)\n",
        "\n",
        "df_AEGIS_simulation0.to_pickle(path + 'df_AEGIS_simulation0.pkl')\n",
        "df_AEGIS_simulation0 = pd.read_pickle(path + 'df_AEGIS_simulation0.pkl')"
      ],
      "metadata": {
        "id": "LBE38Bn48O7W"
      },
      "execution_count": 72,
      "outputs": []
    },
    {
      "cell_type": "code",
      "source": [
        "# Now lets create the properties for the fine tunning call\n",
        "\n",
        "all_match_ids = df_AEGIS_simulation0['matchId'].unique()\n",
        "train_ids, val_ids = train_test_split(all_match_ids, test_size=0.2, random_state=42)\n",
        "\n",
        "train_df = df_AEGIS_simulation0[df_AEGIS_simulation0['matchId'].isin(train_ids)]\n",
        "val_df = df_AEGIS_simulation0[df_AEGIS_simulation0['matchId'].isin(val_ids)]\n",
        "print(f\"Division completed: {len(train_df)} rows for trainning, {len(val_df)} rows for validation.\")"
      ],
      "metadata": {
        "id": "BtOXPWua9O9o",
        "colab": {
          "base_uri": "https://localhost:8080/"
        },
        "outputId": "fd901b80-3e82-4e0c-df95-ffc60a5f41af"
      },
      "execution_count": 73,
      "outputs": [
        {
          "output_type": "stream",
          "name": "stdout",
          "text": [
            "Division completed: 62985 rows for trainning, 20711 rows for validation.\n"
          ]
        }
      ]
    },
    {
      "cell_type": "code",
      "source": [
        "# Mapping\n",
        "\n",
        "# Get all unique event types from your final, cleaned DataFrame\n",
        "all_event_types = sorted(df_AEGIS['EventTypeId'].unique())\n",
        "\n",
        "# Create the mapping dictionary\n",
        "class_mapping = {original_id: new_id for new_id, original_id in enumerate(all_event_types)}\n",
        "\n",
        "print(\"--- Class Mapping Re-created ---\")\n",
        "print(f\"Total unique event types (classes): {len(class_mapping)}\")\n",
        "print(\"\\nThis is your 'translator':\")\n",
        "print(class_mapping)\n",
        "\n",
        "event_name_map = {\n",
        "    18: 'Half Start',\n",
        "    30: 'Pass',\n",
        "    42: 'Ball Receipt*',\n",
        "    43: 'Carry',\n",
        "    17: 'Pressure',\n",
        "    14: 'Dribble',\n",
        "    4:  'Duel',\n",
        "    9:  'Clearance',\n",
        "    3:  'Dispossessed',\n",
        "    2:  'Ball Recovery',\n",
        "    6:  'Block',\n",
        "    22: 'Foul Committed',\n",
        "    21: 'Foul Won',\n",
        "    16: 'Shot',\n",
        "    23: 'Goal Keeper',\n",
        "    39: 'Dribbled Past',\n",
        "    38: 'Miscontrol',\n",
        "    27: 'Player Off',\n",
        "    26: 'Player On',\n",
        "    10: 'Interception',\n",
        "    33: '50/50',\n",
        "    34: 'Half End',\n",
        "    40: 'Injury Stoppage',\n",
        "    19: 'Substitution',\n",
        "    36: 'Tactical Shift',\n",
        "    24: 'Bad Behaviour',\n",
        "    41: 'Referee Ball-Drop',\n",
        "    37: 'Error',\n",
        "    28: 'Shield',\n",
        "    8:  'Offside',\n",
        "    25: 'Own Goal For',\n",
        "    20: 'Own Goal Against'\n",
        "}\n",
        "\n",
        "num_classes = len(class_mapping)"
      ],
      "metadata": {
        "colab": {
          "base_uri": "https://localhost:8080/"
        },
        "id": "D0K5VkTydW4j",
        "outputId": "ce883c5c-f220-4091-f607-b866f51d7474"
      },
      "execution_count": 77,
      "outputs": [
        {
          "output_type": "stream",
          "name": "stdout",
          "text": [
            "--- Class Mapping Re-created ---\n",
            "Total unique event types (classes): 32\n",
            "\n",
            "This is your 'translator':\n",
            "{np.int64(2): 0, np.int64(3): 1, np.int64(4): 2, np.int64(6): 3, np.int64(8): 4, np.int64(9): 5, np.int64(10): 6, np.int64(14): 7, np.int64(16): 8, np.int64(17): 9, np.int64(18): 10, np.int64(19): 11, np.int64(20): 12, np.int64(21): 13, np.int64(22): 14, np.int64(23): 15, np.int64(24): 16, np.int64(25): 17, np.int64(26): 18, np.int64(27): 19, np.int64(28): 20, np.int64(30): 21, np.int64(33): 22, np.int64(34): 23, np.int64(36): 24, np.int64(37): 25, np.int64(38): 26, np.int64(39): 27, np.int64(40): 28, np.int64(41): 29, np.int64(42): 30, np.int64(43): 31}\n"
          ]
        }
      ]
    },
    {
      "cell_type": "code",
      "source": [
        "# Now we call the fine tunning\n",
        "\n",
        "# MODEL 1: EventType (Classifier)\n",
        "finetuned_event_type_model_player0 = finetune_classifier_player_replacement(\n",
        "    train_df=train_df,\n",
        "    val_df=val_df,\n",
        "    base_model_path=path,\n",
        "    new_model_path=path,\n",
        "    is_goal_model=False,\n",
        "    event_type_model=None,\n",
        "    class_mapping=class_mapping,\n",
        "    num_classes=num_classes\n",
        ")\n",
        "\n",
        "# MODEL 2: Accuracy (Classifier)\n",
        "\n",
        "finetuned_accuracy_model_player0 = finetune_classifier_player_replacement(\n",
        "    train_df=train_df,\n",
        "    val_df=val_df,\n",
        "    base_model_path=path,\n",
        "    new_model_path=path,\n",
        "    is_goal_model=False,\n",
        "    event_type_model=finetuned_event_type_model_player0, # <<<--- CASCADE\n",
        "    class_mapping=None,\n",
        "    num_classes=None\n",
        ")\n",
        "\n",
        "# MODEL 3: Goal (Specialized Classifier)\n",
        "\n",
        "finetuned_goal_model_player0 = finetune_classifier_player_replacement(\n",
        "    train_df=train_df,\n",
        "    val_df=val_df,\n",
        "    base_model_path=path,\n",
        "    new_model_path=path,\n",
        "    is_goal_model=True, # Flag to activate the special logic\n",
        "    event_type_model=finetuned_event_type_model_player0, # <<<--- CASCADE\n",
        "    class_mapping=None,\n",
        "    num_classes=None\n",
        ")\n",
        "\n",
        "# MODEL 4: X Coordinate (Regressor)\n",
        "finetuned_x_coord_model_player0 = finetune_regressor_player_replacement(\n",
        "    train_df=train_df,\n",
        "    val_df=val_df,\n",
        "    base_model_path=path,\n",
        "    new_model_path=path,\n",
        "    target_col='X_norm',\n",
        "    event_type_model=finetuned_event_type_model_player0 # <<<--- CASCADE\n",
        ")\n",
        "\n",
        "# MODEL 5: Y Coordinate (Regressor)\n",
        "finetuned_y_coord_model_player0 = finetune_regressor_player_replacement(\n",
        "    train_df=train_df,\n",
        "    val_df=val_df,\n",
        "    base_model_path=path,\n",
        "    new_model_path=path,\n",
        "    target_col='Y_norm',\n",
        "    event_type_model=finetuned_event_type_model_player0 # <<<--- CASCADE\n",
        ")\n",
        "\n",
        "# --- MODEL 6: TimeDelta (Regressor) ---\n",
        "finetuned_timedelta_model_player0 = finetune_regressor_player_replacement(\n",
        "    train_df=train_df,\n",
        "    val_df=val_df,\n",
        "    base_model_path=path,\n",
        "    new_model_path=path,\n",
        "    target_col='TimeDelta',\n",
        "    event_type_model=finetuned_event_type_model_player0 # <<<--- CASCADE\n",
        ")\n",
        "\n",
        "print(f\"\\n\\n✅✅✅ All models have been successfully fine-tuned for the replacement of Player {player_out0} with Player {player_enter0}. ✅✅✅\")\n",
        "print(\"The new models are saved in:\", path)"
      ],
      "metadata": {
        "colab": {
          "base_uri": "https://localhost:8080/",
          "height": 502
        },
        "id": "DnFlBq3jDvY1",
        "outputId": "c11576ad-fe13-4220-c662-949516146bc6"
      },
      "execution_count": 78,
      "outputs": [
        {
          "output_type": "stream",
          "name": "stdout",
          "text": [
            "\n",
            "--- 🦾 Starting Player Replacement Fine-Tuning for: /content/drive/My Drive/Proyect_Hackathon/ ---\n",
            "Starting fine-tuning...\n"
          ]
        },
        {
          "output_type": "error",
          "ename": "ValueError",
          "evalue": "Invalid classes inferred from unique values of `y`.  Expected: [ 0  1  2  3  4  5  6  7  8  9 10 11 12 13 14 15 16 17 18 19 20 21 22 23\n 24 25 26 27 28 29 30], got [ 0  1  2  3  4  5  6  7  8  9 10 11 13 14 15 16 17 18 19 20 21 22 23 24\n 25 26 27 28 29 30 31]",
          "traceback": [
            "\u001b[0;31m---------------------------------------------------------------------------\u001b[0m",
            "\u001b[0;31mValueError\u001b[0m                                Traceback (most recent call last)",
            "\u001b[0;32m/tmp/ipython-input-1360952903.py\u001b[0m in \u001b[0;36m<cell line: 0>\u001b[0;34m()\u001b[0m\n\u001b[1;32m      2\u001b[0m \u001b[0;34m\u001b[0m\u001b[0m\n\u001b[1;32m      3\u001b[0m \u001b[0;31m# MODEL 1: EventType (Classifier)\u001b[0m\u001b[0;34m\u001b[0m\u001b[0;34m\u001b[0m\u001b[0m\n\u001b[0;32m----> 4\u001b[0;31m finetuned_event_type_model_player0 = finetune_classifier_player_replacement(\n\u001b[0m\u001b[1;32m      5\u001b[0m     \u001b[0mtrain_df\u001b[0m\u001b[0;34m=\u001b[0m\u001b[0mtrain_df\u001b[0m\u001b[0;34m,\u001b[0m\u001b[0;34m\u001b[0m\u001b[0;34m\u001b[0m\u001b[0m\n\u001b[1;32m      6\u001b[0m     \u001b[0mval_df\u001b[0m\u001b[0;34m=\u001b[0m\u001b[0mval_df\u001b[0m\u001b[0;34m,\u001b[0m\u001b[0;34m\u001b[0m\u001b[0;34m\u001b[0m\u001b[0m\n",
            "\u001b[0;32m/tmp/ipython-input-1371994376.py\u001b[0m in \u001b[0;36mfinetune_classifier_player_replacement\u001b[0;34m(train_df, val_df, base_model_path, new_model_path, is_goal_model, event_type_model, class_mapping, num_classes)\u001b[0m\n\u001b[1;32m    160\u001b[0m     \u001b[0mprint\u001b[0m\u001b[0;34m(\u001b[0m\u001b[0;34m\"Starting fine-tuning...\"\u001b[0m\u001b[0;34m)\u001b[0m\u001b[0;34m\u001b[0m\u001b[0;34m\u001b[0m\u001b[0m\n\u001b[1;32m    161\u001b[0m     \u001b[0;31m# The base_model is passed to the .fit() method for incremental training\u001b[0m\u001b[0;34m\u001b[0m\u001b[0;34m\u001b[0m\u001b[0m\n\u001b[0;32m--> 162\u001b[0;31m     finetuned_model.fit(X_train, y_train,\n\u001b[0m\u001b[1;32m    163\u001b[0m                         \u001b[0meval_set\u001b[0m\u001b[0;34m=\u001b[0m\u001b[0;34m[\u001b[0m\u001b[0;34m(\u001b[0m\u001b[0mX_val\u001b[0m\u001b[0;34m,\u001b[0m \u001b[0my_val\u001b[0m\u001b[0;34m)\u001b[0m\u001b[0;34m]\u001b[0m\u001b[0;34m,\u001b[0m\u001b[0;34m\u001b[0m\u001b[0;34m\u001b[0m\u001b[0m\n\u001b[1;32m    164\u001b[0m                         \u001b[0mverbose\u001b[0m\u001b[0;34m=\u001b[0m\u001b[0;36m100\u001b[0m\u001b[0;34m,\u001b[0m\u001b[0;34m\u001b[0m\u001b[0;34m\u001b[0m\u001b[0m\n",
            "\u001b[0;32m/usr/local/lib/python3.12/dist-packages/xgboost/core.py\u001b[0m in \u001b[0;36minner_f\u001b[0;34m(*args, **kwargs)\u001b[0m\n\u001b[1;32m    727\u001b[0m             \u001b[0;32mfor\u001b[0m \u001b[0mk\u001b[0m\u001b[0;34m,\u001b[0m \u001b[0marg\u001b[0m \u001b[0;32min\u001b[0m \u001b[0mzip\u001b[0m\u001b[0;34m(\u001b[0m\u001b[0msig\u001b[0m\u001b[0;34m.\u001b[0m\u001b[0mparameters\u001b[0m\u001b[0;34m,\u001b[0m \u001b[0margs\u001b[0m\u001b[0;34m)\u001b[0m\u001b[0;34m:\u001b[0m\u001b[0;34m\u001b[0m\u001b[0;34m\u001b[0m\u001b[0m\n\u001b[1;32m    728\u001b[0m                 \u001b[0mkwargs\u001b[0m\u001b[0;34m[\u001b[0m\u001b[0mk\u001b[0m\u001b[0;34m]\u001b[0m \u001b[0;34m=\u001b[0m \u001b[0marg\u001b[0m\u001b[0;34m\u001b[0m\u001b[0;34m\u001b[0m\u001b[0m\n\u001b[0;32m--> 729\u001b[0;31m             \u001b[0;32mreturn\u001b[0m \u001b[0mfunc\u001b[0m\u001b[0;34m(\u001b[0m\u001b[0;34m**\u001b[0m\u001b[0mkwargs\u001b[0m\u001b[0;34m)\u001b[0m\u001b[0;34m\u001b[0m\u001b[0;34m\u001b[0m\u001b[0m\n\u001b[0m\u001b[1;32m    730\u001b[0m \u001b[0;34m\u001b[0m\u001b[0m\n\u001b[1;32m    731\u001b[0m         \u001b[0;32mreturn\u001b[0m \u001b[0minner_f\u001b[0m\u001b[0;34m\u001b[0m\u001b[0;34m\u001b[0m\u001b[0m\n",
            "\u001b[0;32m/usr/local/lib/python3.12/dist-packages/xgboost/sklearn.py\u001b[0m in \u001b[0;36mfit\u001b[0;34m(self, X, y, sample_weight, base_margin, eval_set, verbose, xgb_model, sample_weight_eval_set, base_margin_eval_set, feature_weights)\u001b[0m\n\u001b[1;32m   1639\u001b[0m                 \u001b[0;32mor\u001b[0m \u001b[0;32mnot\u001b[0m \u001b[0;34m(\u001b[0m\u001b[0mclasses\u001b[0m \u001b[0;34m==\u001b[0m \u001b[0mexpected_classes\u001b[0m\u001b[0;34m)\u001b[0m\u001b[0;34m.\u001b[0m\u001b[0mall\u001b[0m\u001b[0;34m(\u001b[0m\u001b[0;34m)\u001b[0m\u001b[0;34m\u001b[0m\u001b[0;34m\u001b[0m\u001b[0m\n\u001b[1;32m   1640\u001b[0m             ):\n\u001b[0;32m-> 1641\u001b[0;31m                 raise ValueError(\n\u001b[0m\u001b[1;32m   1642\u001b[0m                     \u001b[0;34mf\"Invalid classes inferred from unique values of `y`.  \"\u001b[0m\u001b[0;34m\u001b[0m\u001b[0;34m\u001b[0m\u001b[0m\n\u001b[1;32m   1643\u001b[0m                     \u001b[0;34mf\"Expected: {expected_classes}, got {classes}\"\u001b[0m\u001b[0;34m\u001b[0m\u001b[0;34m\u001b[0m\u001b[0m\n",
            "\u001b[0;31mValueError\u001b[0m: Invalid classes inferred from unique values of `y`.  Expected: [ 0  1  2  3  4  5  6  7  8  9 10 11 12 13 14 15 16 17 18 19 20 21 22 23\n 24 25 26 27 28 29 30], got [ 0  1  2  3  4  5  6  7  8  9 10 11 13 14 15 16 17 18 19 20 21 22 23 24\n 25 26 27 28 29 30 31]"
          ]
        }
      ]
    }
  ]
}