{
  "nbformat": 4,
  "nbformat_minor": 0,
  "metadata": {
    "colab": {
      "provenance": [],
      "authorship_tag": "ABX9TyMrCBkINrmXl4Wkh2lC0XkP",
      "include_colab_link": true
    },
    "kernelspec": {
      "name": "python3",
      "display_name": "Python 3"
    },
    "language_info": {
      "name": "python"
    }
  },
  "cells": [
    {
      "cell_type": "markdown",
      "metadata": {
        "id": "view-in-github",
        "colab_type": "text"
      },
      "source": [
        "<a href=\"https://colab.research.google.com/github/SLy-Precision/Player-Detection-and-Team-Performance-Prediction/blob/main/04_AEGIS_Simulations.ipynb\" target=\"_parent\"><img src=\"https://colab.research.google.com/assets/colab-badge.svg\" alt=\"Open In Colab\"/></a>"
      ]
    },
    {
      "cell_type": "markdown",
      "source": [
        "# 🤖 🔮 AEGIS Simulations 🧪 🎰"
      ],
      "metadata": {
        "id": "-7m-CPd1rnnV"
      }
    },
    {
      "cell_type": "markdown",
      "source": [
        "## ⚽ Once we did the scouting using advanced metrics (KPI's) now its time to fine-tunning teams with the new player in roster, here we are gonna get the proyections of performance of Club America with these additions 🕹️\n",
        "\n",
        "### Antonio Guerrero"
      ],
      "metadata": {
        "id": "8ZxcGhB_roNf"
      }
    },
    {
      "cell_type": "code",
      "source": [
        "# Lets import the libraries we are gonna use 🐍\n",
        "\n",
        "# Statsbomb api and more\n",
        "!pip install --quiet statsbombpy\n",
        "!pip install --quiet mplsoccer\n",
        "!pip install --quiet highlight_text\n",
        "!pip install --quiet xgboost\n",
        "\n",
        "# Libraries for the data manipulation and plot\n",
        "from statsbombpy import sb\n",
        "from tqdm import tqdm\n",
        "import pandas as pd\n",
        "from mplsoccer import VerticalPitch, Pitch, Sbapi\n",
        "from highlight_text import ax_text, fig_text\n",
        "import matplotlib.pyplot as plt\n",
        "from matplotlib.colors import LinearSegmentedColormap\n",
        "import matplotlib.pyplot as plt\n",
        "import matplotlib.patheffects as path_effects\n",
        "import seaborn as sns\n",
        "import numpy as np\n",
        "from collections import defaultdict\n",
        "from collections import Counter\n",
        "from itertools import groupby\n",
        "from mplsoccer import Pitch\n",
        "import random\n",
        "\n",
        "# Machine Learning\n",
        "\n",
        "from sklearn.model_selection import train_test_split\n",
        "import xgboost as xgb\n",
        "from sklearn.utils.class_weight import compute_sample_weight"
      ],
      "metadata": {
        "colab": {
          "base_uri": "https://localhost:8080/"
        },
        "id": "-oalE_lQroZx",
        "outputId": "7a286b16-94ec-4802-bcdd-ea3cac7c557f"
      },
      "execution_count": 1,
      "outputs": [
        {
          "output_type": "stream",
          "name": "stdout",
          "text": [
            "\u001b[2K     \u001b[90m━━━━━━━━━━━━━━━━━━━━━━━━━━━━━━━━━━━━━━━━\u001b[0m \u001b[32m63.7/63.7 kB\u001b[0m \u001b[31m4.2 MB/s\u001b[0m eta \u001b[36m0:00:00\u001b[0m\n",
            "\u001b[2K   \u001b[90m━━━━━━━━━━━━━━━━━━━━━━━━━━━━━━━━━━━━━━━━\u001b[0m \u001b[32m61.4/61.4 kB\u001b[0m \u001b[31m5.0 MB/s\u001b[0m eta \u001b[36m0:00:00\u001b[0m\n",
            "\u001b[2K   \u001b[90m━━━━━━━━━━━━━━━━━━━━━━━━━━━━━━━━━━━━━━━━\u001b[0m \u001b[32m70.7/70.7 kB\u001b[0m \u001b[31m5.4 MB/s\u001b[0m eta \u001b[36m0:00:00\u001b[0m\n",
            "\u001b[2K   \u001b[90m━━━━━━━━━━━━━━━━━━━━━━━━━━━━━━━━━━━━━━━━\u001b[0m \u001b[32m86.4/86.4 kB\u001b[0m \u001b[31m6.2 MB/s\u001b[0m eta \u001b[36m0:00:00\u001b[0m\n",
            "\u001b[?25h"
          ]
        }
      ]
    },
    {
      "cell_type": "code",
      "source": [
        "# Access to drive and files\n",
        "\n",
        "from google.colab import drive\n",
        "drive.mount('/content/drive')\n",
        "\n",
        "path = '/content/drive/My Drive/Proyect_Hackathon/'\n",
        "\n",
        "# Data needed\n",
        "\n",
        "df_AEGIS_tunning = pd.read_csv(path + 'AEGIS_tunning_last_season.csv')\n",
        "df_AEGIS_map = pd.read_csv(path + 'AEGIS_data.csv')\n",
        "df= pd.read_csv(path + 'Full_Dataset_2021-2025.csv')"
      ],
      "metadata": {
        "colab": {
          "base_uri": "https://localhost:8080/"
        },
        "id": "FscYehoGsuoL",
        "outputId": "0df7a457-c22f-4866-bbd6-159ea9170af5"
      },
      "execution_count": 2,
      "outputs": [
        {
          "output_type": "stream",
          "name": "stdout",
          "text": [
            "Mounted at /content/drive\n"
          ]
        }
      ]
    },
    {
      "cell_type": "code",
      "source": [
        "id_america = 1229\n",
        "team_name_prefix = 'club_america'"
      ],
      "metadata": {
        "id": "S6BxWU0TUnHO"
      },
      "execution_count": 4,
      "outputs": []
    },
    {
      "cell_type": "markdown",
      "source": [
        "### 🤼‍♀ Analysis of Substitutions"
      ],
      "metadata": {
        "id": "HvNQvFT0Hlga"
      }
    },
    {
      "cell_type": "code",
      "source": [
        "array_recommendations = [10846,5738,27904]\n",
        "array_replaced = [30944,35690,29265]"
      ],
      "metadata": {
        "id": "qvb8AtUwHppY"
      },
      "execution_count": 5,
      "outputs": []
    },
    {
      "cell_type": "code",
      "source": [
        "# DATA PREPARATION\n",
        "df_AEGIS_tunning['team_id'] = np.where(\n",
        "    df_AEGIS_tunning['IsHomeTeam'] == 1,\n",
        "    df_AEGIS_tunning['home_team_id'],\n",
        "    df_AEGIS_tunning['away_team_id']\n",
        ")\n",
        "\n",
        "\n",
        "# ANALYSIS: COUNT EVENTS\n",
        "df_america = df_AEGIS_tunning[df_AEGIS_tunning['team_id'] == id_america]\n",
        "replaced_player_events = {}\n",
        "recommended_player_events = {}\n",
        "\n",
        "print(f\"--- Counting Events for Players to be Replaced (Context: Team ID {id_america}) ---\")\n",
        "for player_id in array_replaced:\n",
        "    count = df_america[df_america['playerId'] == player_id].shape[0]\n",
        "    replaced_player_events[player_id] = count\n",
        "    print(f\"Player ID {player_id}: {count} events\")\n",
        "\n",
        "print(\"\\n--- Counting Events for Recommended Players (Context: All Teams) ---\")\n",
        "for player_id in array_recommendations:\n",
        "    count = df_AEGIS_tunning[df_AEGIS_tunning['playerId'] == player_id].shape[0]\n",
        "    recommended_player_events[player_id] = count\n",
        "    print(f\"Player ID {player_id}: {count} events\")\n",
        "\n",
        "\n",
        "# VISUALIZATION: BAR CHARTS\n",
        "\n",
        "print(\"\\n--- Generating Comparison Charts ---\")\n",
        "for replaced_id, recommended_id in zip(array_replaced, array_recommendations):\n",
        "    replaced_count = replaced_player_events.get(replaced_id, 0)\n",
        "    recommended_count = recommended_player_events.get(recommended_id, 0)\n",
        "\n",
        "    players_labels = [f'Replaced Player\\n(ID: {replaced_id})', f'Recommended Player\\n(ID: {recommended_id})']\n",
        "    event_counts = [replaced_count, recommended_count]\n",
        "\n",
        "    plt.figure(figsize=(8, 6))\n",
        "    bars = plt.bar(players_labels, event_counts, color=['#ffff00', '#0000ff'])\n",
        "\n",
        "    plt.ylabel('Total Number of Events in Dataset')\n",
        "    plt.title(f'Event Volume Comparison: Player {replaced_id} vs. Player {recommended_id}')\n",
        "    plt.grid(axis='y', linestyle='--', alpha=0.7)\n",
        "\n",
        "    for bar in bars:\n",
        "        yval = bar.get_height()\n",
        "        plt.text(bar.get_x() + bar.get_width()/2.0, yval, int(yval), va='bottom', ha='center', fontsize=12, fontweight='bold')\n",
        "\n",
        "    filename = f'comparison_player_{replaced_id}_vs_{recommended_id}.png'\n",
        "    plt.savefig(filename)\n",
        "    print(f\"Chart saved: {filename}\")\n",
        "\n",
        "    plt.show()\n",
        "\n",
        "    plt.close()"
      ],
      "metadata": {
        "colab": {
          "base_uri": "https://localhost:8080/",
          "height": 1000
        },
        "id": "BG9YZxtMIqsq",
        "outputId": "39ef1172-aaf9-4810-f07c-0c61570dfe43"
      },
      "execution_count": 6,
      "outputs": [
        {
          "output_type": "stream",
          "name": "stdout",
          "text": [
            "--- Counting Events for Players to be Replaced (Context: Team ID 1229) ---\n",
            "Player ID 30944: 2545 events\n",
            "Player ID 35690: 3119 events\n",
            "Player ID 29265: 3534 events\n",
            "\n",
            "--- Counting Events for Recommended Players (Context: All Teams) ---\n",
            "Player ID 10846: 2398 events\n",
            "Player ID 5738: 2931 events\n",
            "Player ID 27904: 7107 events\n",
            "\n",
            "--- Generating Comparison Charts ---\n",
            "Chart saved: comparison_player_30944_vs_10846.png\n"
          ]
        },
        {
          "output_type": "display_data",
          "data": {
            "text/plain": [
              "<Figure size 800x600 with 1 Axes>"
            ],
            "image/png": "[encoded data removed]"
          },
          "metadata": {}
        },
        {
          "output_type": "stream",
          "name": "stdout",
          "text": [
            "Chart saved: comparison_player_35690_vs_5738.png\n"
          ]
        },
        {
          "output_type": "display_data",
          "data": {
            "text/plain": [
              "<Figure size 800x600 with 1 Axes>"
            ],
            "image/png": "[encoded data removed]"
          },
          "metadata": {}
        },
        {
          "output_type": "stream",
          "name": "stdout",
          "text": [
            "Chart saved: comparison_player_29265_vs_27904.png\n"
          ]
        },
        {
          "output_type": "display_data",
          "data": {
            "text/plain": [
              "<Figure size 800x600 with 1 Axes>"
            ],
            "image/png": "[encoded data removed]"
          },
          "metadata": {}
        }
      ]
    },
    {
      "cell_type": "markdown",
      "source": [
        "### Functions and pre-charged models we are gonna use:"
      ],
      "metadata": {
        "id": "eNsByHVn5Vi0"
      }
    },
    {
      "cell_type": "code",
      "source": [
        "# Here we put all the functions for the simulations (most of them from the previous notebooks)\n",
        "\n",
        "# Lets precharge the function of context to faster compilation of simulations\n",
        "\n",
        "def create_and_save_full_context_df(df, seq_len=5, output_filename='df_with_context0.pkl'):\n",
        "    \"\"\"\n",
        "    Performs the heavy lifting of creating the sequential context for the entire dataset\n",
        "    and saves it to a file. This only needs to be run once.\n",
        "    \"\"\"\n",
        "    print(f\"--- 🦾 Starting Heavy Pre-processing for all {len(df)} events... ---\")\n",
        "    print(\"This will take a long time, but you only have to do it once!\")\n",
        "\n",
        "    # Define the features that will form the context\n",
        "    context_features = [\n",
        "        'EventTypeId', 'X_norm', 'Y_norm', 'IsHomeTeam', 'IsAccurate', 'IsGoal',\n",
        "        'TimeDelta', 'minute_norm', 'HomeScore_norm', 'AwayScore_norm'\n",
        "    ]\n",
        "\n",
        "    # We work on a copy to be safe\n",
        "    data = df.copy()\n",
        "\n",
        "    # The slow loop to create the \"rear-view mirror\"\n",
        "    for i in range(1, seq_len + 1):\n",
        "        for feature in context_features:\n",
        "            new_col_name = f'c{i}_{feature}'\n",
        "            print(f\"Creating context feature: {new_col_name}...\")\n",
        "            # Group by match and shift to look back in time\n",
        "            data[new_col_name] = data.groupby('matchId')[feature].shift(i)\n",
        "\n",
        "    # Clean up rows at the beginning of matches that don't have a full 5-event history\n",
        "    data.dropna(subset=[f'c{seq_len}_{context_features[0]}'], inplace=True)\n",
        "\n",
        "    # Save the processed DataFrame using the efficient pickle format\n",
        "    print(f\"\\nSaving the context-rich DataFrame to '{output_filename}'...\")\n",
        "    data.to_pickle(output_filename)\n",
        "\n",
        "    print(f\"✅ Pre-processing complete! Your data is saved and ready for fast training.\")\n",
        "    return data\n",
        "\n",
        "# Function to create hibrid dfs\n",
        "\n",
        "def create_hybrid_dataset(base_df, team_id, player_out_id, player_in_id):\n",
        "    \"\"\"\n",
        "    Creates a hybrid dataset for fine-tuning by replacing one player with another.\n",
        "\n",
        "    Args:\n",
        "        base_df (pd.DataFrame): The full, original DataFrame with all event data.\n",
        "        team_id (int): The unique ID of the team to modify.\n",
        "        player_out_id (int): The ID of the player to remove from the team.\n",
        "        player_in_id (int): The ID of the player to add to the team.\n",
        "\n",
        "    Returns:\n",
        "        pd.DataFrame: A new DataFrame ready for context creation and fine-tuning.\n",
        "    \"\"\"\n",
        "    print(f\"--- Creating Hybrid Dataset for Team ID: {team_id} ---\")\n",
        "    print(f\"  - Removing Player ID: {player_out_id}\")\n",
        "    print(f\"  - Adding Player ID: {player_in_id}\\n\")\n",
        "\n",
        "    # Create a 'team_id' column for accurate event ownership\n",
        "    if 'team_id' not in base_df.columns:\n",
        "        print(\"Creating 'team_id' column...\")\n",
        "        base_df['team_id'] = np.where(\n",
        "            base_df['IsHomeTeam'] == 1,\n",
        "            base_df['home_team_id'],\n",
        "            base_df['away_team_id']\n",
        "        )\n",
        "\n",
        "    # Isolate all events from the target team\n",
        "    df_team = base_df[base_df['team_id'] == team_id]\n",
        "    print(f\"Original event count for team {team_id}: {len(df_team)}\")\n",
        "\n",
        "    # Remove all events of the player who is leaving\n",
        "    df_team_without_player = df_team[df_team['playerId'] != player_out_id]\n",
        "    print(f\"Event count after removing player {player_out_id}: {len(df_team_without_player)}\")\n",
        "\n",
        "    # Get all events of the player who is joining from the entire dataset\n",
        "    df_player_in = base_df[base_df['playerId'] == player_in_id]\n",
        "    print(f\"Found {len(df_player_in)} events for incoming player {player_in_id}\")\n",
        "\n",
        "    # Concatenate the two DataFrames to create the final hybrid dataset\n",
        "    df_hybrid = pd.concat([df_team_without_player, df_player_in], ignore_index=True)\n",
        "    print(f\"\\n✅ Final hybrid dataset created with {len(df_hybrid)} total events.\\n\")\n",
        "\n",
        "    return df_hybrid\n",
        "\n",
        "# Functions to fine tunning\n",
        "\n",
        "def prepare_features_and_target(context_df, target_col='EventTypeId_mapped'):\n",
        "    \"\"\"\n",
        "    Prepares the features (X) and target (y) directly from a\n",
        "    context DataFrame. It does no mapping here.\n",
        "    \"\"\"\n",
        "    data = context_df.copy()\n",
        "\n",
        "    # 'y' is simply the target column, which should already be pre-processed.\n",
        "    y = data[target_col]\n",
        "\n",
        "    # 'X' are all context features that start with 'c'.\n",
        "    context_cols = [col for col in data.columns if col.startswith('c')]\n",
        "    X = data[context_cols]\n",
        "\n",
        "    return X, y\n",
        "\n",
        "\n",
        "def prepare_features_with_prediction(context_df, event_type_model, target_col):\n",
        "    \"\"\"\n",
        "    Prepares features from a context_df and adds the\n",
        "    cascaded prediction from a previously trained model.\n",
        "    \"\"\"\n",
        "    # Use the new, simpler base function\n",
        "    X, y_target = prepare_features_and_target(context_df, target_col=target_col)\n",
        "\n",
        "    print(f\"Generating EventType predictions for {len(X)} rows...\")\n",
        "    # Ensure feature names match what the model was trained on to avoid errors\n",
        "    X_for_pred = X[event_type_model.get_booster().feature_names]\n",
        "    predicted_event_type = event_type_model.predict(X_for_pred)\n",
        "    X['predicted_EventTypeId'] = predicted_event_type\n",
        "\n",
        "    return X, y_target\n",
        "\n",
        "def finetune_classifier_player_replacement(train_df, val_df, base_model_path, new_model_path,\n",
        "                                           is_goal_model=False, event_type_model=None,\n",
        "                                           num_classes=None):\n",
        "    \"\"\"\n",
        "    Fine-Tuning function for Classifiers, designed for player replacement.\n",
        "    It accepts specific training and validation DataFrames that have already been pre-processed.\n",
        "    \"\"\"\n",
        "    print(f\"\\n--- 🦾 Starting Player Replacement Fine-Tuning for: {new_model_path} ---\")\n",
        "\n",
        "    # --- KEY CHANGE: Determine the correct target column ---\n",
        "    if is_goal_model:\n",
        "        target_col = 'IsGoal'\n",
        "    elif event_type_model:\n",
        "        target_col = 'IsAccurate'\n",
        "    else:\n",
        "        target_col = 'EventTypeId_mapped'  # Use the already pre-processed and mapped column\n",
        "\n",
        "    # Prepare data using the simplified functions (no internal mapping)\n",
        "    if event_type_model:\n",
        "        X_train, y_train = prepare_features_with_prediction(train_df, event_type_model, target_col)\n",
        "        X_val, y_val = prepare_features_with_prediction(val_df, event_type_model, target_col)\n",
        "    else:\n",
        "        # The mapping parameter is no longer passed here\n",
        "        X_train, y_train = prepare_features_and_target(train_df, target_col)\n",
        "        X_val, y_val = prepare_features_and_target(val_df, target_col)\n",
        "\n",
        "    # Logic for the specialized goal model (remains the same)\n",
        "    if is_goal_model:\n",
        "        # Note: This logic uses the original 'EventTypeId' column for filtering, which is correct.\n",
        "        train_mask = (train_df['EventTypeId'] == 16)\n",
        "        X_train, y_train = X_train[train_mask], y_train[train_mask]\n",
        "        val_mask = (val_df['EventTypeId'] == 16)\n",
        "        X_val, y_val = X_val[val_mask], y_val[val_mask]\n",
        "\n",
        "    # The weight calculation will now work because y_train is the correct data type (categorical/numeric).\n",
        "    sample_weights = compute_sample_weight(class_weight='balanced', y=y_train)\n",
        "\n",
        "    # Initialize the model (remains the same)\n",
        "    finetuned_model = xgb.XGBClassifier(\n",
        "        objective='multi:softprob' if num_classes else 'binary:logistic',\n",
        "        num_class=num_classes if num_classes else None,\n",
        "        eval_metric='mlogloss' if num_classes else 'logloss',\n",
        "        learning_rate=0.01, n_estimators=1000, early_stopping_rounds=20,\n",
        "        use_label_encoder=False, random_state=42\n",
        "    )\n",
        "\n",
        "    print(\"Starting fine-tuning...\")\n",
        "    # The .fit() method now receives the correct and compatible data\n",
        "    finetuned_model.fit(X_train, y_train,\n",
        "                        eval_set=[(X_val, y_val)],\n",
        "                        verbose=100,\n",
        "                        sample_weight=sample_weights,\n",
        "                        xgb_model=base_model_path # Path to the pre-trained base model\n",
        "                       )\n",
        "\n",
        "    finetuned_model.save_model(new_model_path)\n",
        "    print(f\"✅ Fine-tuned model saved to: {new_model_path}\")\n",
        "    return finetuned_model\n",
        "\n",
        "\n",
        "def finetune_regressor_player_replacement(train_df, val_df, base_model_path, new_model_path, target_col, event_type_model):\n",
        "    \"\"\"\n",
        "    CORRECTED Fine-Tuning for Regressors, designed for player replacement.\n",
        "    \"\"\"\n",
        "    print(f\"\\n--- 🦾 Starting Player Replacement Fine-Tuning for: {new_model_path} ---\")\n",
        "\n",
        "    # Prepare data using the corrected functions\n",
        "    X_train, y_train = prepare_features_with_prediction(train_df, event_type_model, target_col)\n",
        "    X_val, y_val = prepare_features_with_prediction(val_df, event_type_model, target_col)\n",
        "\n",
        "    if target_col == 'TimeDelta':\n",
        "        y_train, y_val = np.log1p(y_train), np.log1p(y_val)\n",
        "\n",
        "    # Initialize the model\n",
        "    finetuned_model = xgb.XGBRegressor(\n",
        "        objective='reg:squarederror', eval_metric='rmse', learning_rate=0.01,\n",
        "        n_estimators=500, early_stopping_rounds=20, random_state=42\n",
        "    )\n",
        "\n",
        "    print(\"Starting fine-tuning...\")\n",
        "    finetuned_model.fit(X_train, y_train,\n",
        "                        eval_set=[(X_val, y_val)],\n",
        "                        verbose=100,\n",
        "                        xgb_model=base_model_path\n",
        "                       )\n",
        "\n",
        "    finetuned_model.save_model(new_model_path)\n",
        "    print(f\"✅ Fine-tuned model saved to: {new_model_path}\")\n",
        "    return finetuned_model"
      ],
      "metadata": {
        "id": "QflljS_v5Y0F"
      },
      "execution_count": 16,
      "outputs": []
    },
    {
      "cell_type": "code",
      "source": [
        "# Here we charge the pre-trained models before and create the ensembled model\n",
        "\n",
        "# Lets charge all the models\n",
        "\n",
        "# --- 1: Load the Trained Model from the JSON File ---\n",
        "print(\"Step 1: Loading the trained AEGIS EventTypeModel from file... 📂\")\n",
        "\n",
        "# Create a new, empty XGBoost model instance\n",
        "event_type_model = xgb.XGBClassifier()\n",
        "\n",
        "model_filename = path + 'event_type_model1.json'\n",
        "\n",
        "# Load the trained state into the empty model\n",
        "event_type_model.load_model(model_filename)\n",
        "\n",
        "print(\"✅ EventTypeModel loaded successfully!\")\n",
        "\n",
        "# --- 2: Load the Trained Model from the JSON File ---\n",
        "print(\"Step 2: Loading the trained AEGIS AccuracyModel from file... 📂\")\n",
        "\n",
        "# Create a new, empty XGBoost model instance\n",
        "accuracy_model = xgb.XGBClassifier()\n",
        "\n",
        "model_filename = path + 'accuracy_model1.json'\n",
        "\n",
        "# Load the trained state into the empty model\n",
        "accuracy_model.load_model(model_filename)\n",
        "\n",
        "print(\"✅ AccuracyModel loaded successfully!\")\n",
        "\n",
        "# --- 3: Load the Trained Model from the JSON File ---\n",
        "\n",
        "print(\"Step 3: Loading the trained AEGIS GoalModel from file... 📂\")\n",
        "\n",
        "# Create a new, empty XGBoost model instance\n",
        "goal_model = xgb.XGBClassifier()\n",
        "\n",
        "model_filename = path + 'goal_model0.json'\n",
        "\n",
        "# Load the trained state into the empty model\n",
        "goal_model.load_model(model_filename)\n",
        "\n",
        "print(\"✅ GoalModel loaded successfully!\")\n",
        "\n",
        "# --- 4: Load the Trained Model from the JSON File ---\n",
        "\n",
        "print(\"Step 4: Loading the trained AEGIS XModel from file... 📂\")\n",
        "\n",
        "# Create a new, empty XGBoost model instance\n",
        "# Use XGBRegressor for regression models\n",
        "x_location = xgb.XGBRegressor()\n",
        "\n",
        "model_filename = path + 'x_model0.json'\n",
        "\n",
        "# Load the trained state into the empty model\n",
        "x_location.load_model(model_filename)\n",
        "\n",
        "print(\"✅ XModel loaded successfully!\")\n",
        "\n",
        "# --- 4: Load the Trained Model from the JSON File ---\n",
        "\n",
        "print(\"Step 5: Loading the trained AEGIS YModel from file... 📂\")\n",
        "\n",
        "# Create a new, empty XGBoost model instance\n",
        "# Use XGBRegressor for regression models\n",
        "y_location = xgb.XGBRegressor()\n",
        "\n",
        "model_filename = path + 'y_model0.json'\n",
        "\n",
        "# Load the trained state into the empty model\n",
        "y_location.load_model(model_filename)\n",
        "\n",
        "print(\"✅ YModel loaded successfully!\")\n",
        "\n",
        "# --- 5: Load the Trained Model from the JSON File ---\n",
        "\n",
        "print(\"Step 6: Loading the trained AEGIS TimeDeltaModel from file... 📂\")\n",
        "\n",
        "# Create a new, empty XGBoost model instance\n",
        "# Use XGBRegressor for regression models\n",
        "timedelta_model = xgb.XGBRegressor()\n",
        "\n",
        "model_filename = path + 'timedelta_model0.json'\n",
        "\n",
        "# Load the trained state into the empty model\n",
        "timedelta_model.load_model(model_filename)"
      ],
      "metadata": {
        "colab": {
          "base_uri": "https://localhost:8080/"
        },
        "id": "8PTlcG7p8iGo",
        "outputId": "aba794ac-cb97-4a52-bdc0-da9f0950dd15"
      },
      "execution_count": 8,
      "outputs": [
        {
          "output_type": "stream",
          "name": "stdout",
          "text": [
            "Step 1: Loading the trained AEGIS EventTypeModel from file... 📂\n",
            "✅ EventTypeModel loaded successfully!\n",
            "Step 2: Loading the trained AEGIS AccuracyModel from file... 📂\n",
            "✅ AccuracyModel loaded successfully!\n",
            "Step 3: Loading the trained AEGIS GoalModel from file... 📂\n",
            "✅ GoalModel loaded successfully!\n",
            "Step 4: Loading the trained AEGIS XModel from file... 📂\n",
            "✅ XModel loaded successfully!\n",
            "Step 5: Loading the trained AEGIS YModel from file... 📂\n",
            "✅ YModel loaded successfully!\n",
            "Step 6: Loading the trained AEGIS TimeDeltaModel from file... 📂\n"
          ]
        }
      ]
    },
    {
      "cell_type": "code",
      "source": [
        "# Mapping\n",
        "\n",
        "# Get all unique event types from your final, cleaned DataFrame\n",
        "\n",
        "all_event_types = sorted(df_AEGIS_map['EventTypeId'].unique())\n",
        "\n",
        "\n",
        "# Create the class mapping based on the known event types\n",
        "class_mapping = {original_id: new_id for new_id, original_id in enumerate(all_event_types)}\n",
        "\n",
        "\n",
        "print(\"--- Class Mapping Re-created based on known event types ---\")\n",
        "print(f\"Total unique event types (classes) based on base model: {len(class_mapping)}\")\n",
        "print(\"\\nThis is your 'translator':\")\n",
        "print(class_mapping)\n",
        "\n",
        "event_name_map = {\n",
        "    18: 'Half Start',\n",
        "    30: 'Pass',\n",
        "    42: 'Ball Receipt*',\n",
        "    43: 'Carry',\n",
        "    17: 'Pressure',\n",
        "    14: 'Dribble',\n",
        "    4:  'Duel',\n",
        "    9:  'Clearance',\n",
        "    3:  'Dispossessed',\n",
        "    2:  'Ball Recovery',\n",
        "    6:  'Block',\n",
        "    22: 'Foul Committed',\n",
        "    21: 'Foul Won',\n",
        "    16: 'Shot',\n",
        "    23: 'Goal Keeper',\n",
        "    39: 'Dribbled Past',\n",
        "    38: 'Miscontrol',\n",
        "    27: 'Player Off',\n",
        "    26: 'Player On',\n",
        "    10: 'Interception',\n",
        "    33: '50/50',\n",
        "    34: 'Half End',\n",
        "    40: 'Injury Stoppage',\n",
        "    19: 'Substitution',\n",
        "    36: 'Tactical Shift',\n",
        "    24: 'Bad Behaviour',\n",
        "    41: 'Referee Ball-Drop',\n",
        "    37: 'Error',\n",
        "    28: 'Shield',\n",
        "    8:  'Offside',\n",
        "    25: 'Own Goal For',\n",
        "    20: 'Own Goal Against'\n",
        "}\n",
        "\n",
        "num_classes = len(class_mapping)"
      ],
      "metadata": {
        "colab": {
          "base_uri": "https://localhost:8080/"
        },
        "id": "tPCWZ1v29Zp8",
        "outputId": "be7d37b3-e9c5-463c-893c-def00c04a8ee"
      },
      "execution_count": 9,
      "outputs": [
        {
          "output_type": "stream",
          "name": "stdout",
          "text": [
            "--- Class Mapping Re-created based on known event types ---\n",
            "Total unique event types (classes) based on base model: 32\n",
            "\n",
            "This is your 'translator':\n",
            "{np.int64(2): 0, np.int64(3): 1, np.int64(4): 2, np.int64(6): 3, np.int64(8): 4, np.int64(9): 5, np.int64(10): 6, np.int64(14): 7, np.int64(16): 8, np.int64(17): 9, np.int64(18): 10, np.int64(19): 11, np.int64(20): 12, np.int64(21): 13, np.int64(22): 14, np.int64(23): 15, np.int64(24): 16, np.int64(25): 17, np.int64(26): 18, np.int64(27): 19, np.int64(28): 20, np.int64(30): 21, np.int64(33): 22, np.int64(34): 23, np.int64(36): 24, np.int64(37): 25, np.int64(38): 26, np.int64(39): 27, np.int64(40): 28, np.int64(41): 29, np.int64(42): 30, np.int64(43): 31}\n"
          ]
        }
      ]
    },
    {
      "cell_type": "markdown",
      "source": [
        "## ⚠️ Simulation Player 1:"
      ],
      "metadata": {
        "id": "ZgnnXfUtHYmK"
      }
    },
    {
      "cell_type": "code",
      "source": [
        "# We take the first\n",
        "\n",
        "id_america = 1229\n",
        "\n",
        "player_enter0 = array_recommendations[0]\n",
        "player_out0 = array_replaced[0]\n",
        "\n",
        "print(f\"Player entering: {player_enter0}\")\n",
        "print(f\"Player leaving: {player_out0}\")\n",
        "\n",
        "# First case out A.Dávila and goes in Murillo Roma"
      ],
      "metadata": {
        "colab": {
          "base_uri": "https://localhost:8080/"
        },
        "id": "SBQG2AIPHifr",
        "outputId": "a9f2d419-6c9e-4a92-ca06-04c923f4d10b"
      },
      "execution_count": 10,
      "outputs": [
        {
          "output_type": "stream",
          "name": "stdout",
          "text": [
            "Player entering: 10846\n",
            "Player leaving: 30944\n"
          ]
        }
      ]
    },
    {
      "cell_type": "code",
      "source": [
        "# We run this just once per player\n",
        "\n",
        "# Lets make the hybrid df with the two players\n",
        "\n",
        "data_for_player0 = create_hybrid_dataset(df_AEGIS_tunning, id_america, player_out0, player_enter0)\n",
        "\n",
        "# Then we create that df with context\n",
        "\n",
        "data_for_player0 = create_and_save_full_context_df(data_for_player0)\n",
        "\n",
        "# Save the df in our unit\n",
        "\n",
        "data_for_player0.to_pickle(path + 'data_for_player0.pkl')"
      ],
      "metadata": {
        "colab": {
          "base_uri": "https://localhost:8080/"
        },
        "id": "-F-gzV1zsbLv",
        "outputId": "ef9ceed3-ff38-46d1-c970-5a3e15067a8e"
      },
      "execution_count": 11,
      "outputs": [
        {
          "output_type": "stream",
          "name": "stdout",
          "text": [
            "--- Creating Hybrid Dataset for Team ID: 1229 ---\n",
            "  - Removing Player ID: 30944\n",
            "  - Adding Player ID: 10846\n",
            "\n",
            "Original event count for team 1229: 84213\n",
            "Event count after removing player 30944: 81668\n",
            "Found 2398 events for incoming player 10846\n",
            "\n",
            "✅ Final hybrid dataset created with 84066 total events.\n",
            "\n",
            "--- 🦾 Starting Heavy Pre-processing for all 84066 events... ---\n",
            "This will take a long time, but you only have to do it once!\n",
            "Creating context feature: c1_EventTypeId...\n",
            "Creating context feature: c1_X_norm...\n",
            "Creating context feature: c1_Y_norm...\n",
            "Creating context feature: c1_IsHomeTeam...\n",
            "Creating context feature: c1_IsAccurate...\n",
            "Creating context feature: c1_IsGoal...\n",
            "Creating context feature: c1_TimeDelta...\n",
            "Creating context feature: c1_minute_norm...\n",
            "Creating context feature: c1_HomeScore_norm...\n",
            "Creating context feature: c1_AwayScore_norm...\n",
            "Creating context feature: c2_EventTypeId...\n",
            "Creating context feature: c2_X_norm...\n",
            "Creating context feature: c2_Y_norm...\n",
            "Creating context feature: c2_IsHomeTeam...\n",
            "Creating context feature: c2_IsAccurate...\n",
            "Creating context feature: c2_IsGoal...\n",
            "Creating context feature: c2_TimeDelta...\n",
            "Creating context feature: c2_minute_norm...\n",
            "Creating context feature: c2_HomeScore_norm...\n",
            "Creating context feature: c2_AwayScore_norm...\n",
            "Creating context feature: c3_EventTypeId...\n",
            "Creating context feature: c3_X_norm...\n",
            "Creating context feature: c3_Y_norm...\n",
            "Creating context feature: c3_IsHomeTeam...\n",
            "Creating context feature: c3_IsAccurate...\n",
            "Creating context feature: c3_IsGoal...\n",
            "Creating context feature: c3_TimeDelta...\n",
            "Creating context feature: c3_minute_norm...\n",
            "Creating context feature: c3_HomeScore_norm...\n",
            "Creating context feature: c3_AwayScore_norm...\n",
            "Creating context feature: c4_EventTypeId...\n",
            "Creating context feature: c4_X_norm...\n",
            "Creating context feature: c4_Y_norm...\n",
            "Creating context feature: c4_IsHomeTeam...\n",
            "Creating context feature: c4_IsAccurate...\n",
            "Creating context feature: c4_IsGoal...\n",
            "Creating context feature: c4_TimeDelta...\n",
            "Creating context feature: c4_minute_norm...\n",
            "Creating context feature: c4_HomeScore_norm...\n",
            "Creating context feature: c4_AwayScore_norm...\n",
            "Creating context feature: c5_EventTypeId...\n",
            "Creating context feature: c5_X_norm...\n",
            "Creating context feature: c5_Y_norm...\n",
            "Creating context feature: c5_IsHomeTeam...\n",
            "Creating context feature: c5_IsAccurate...\n",
            "Creating context feature: c5_IsGoal...\n",
            "Creating context feature: c5_TimeDelta...\n",
            "Creating context feature: c5_minute_norm...\n",
            "Creating context feature: c5_HomeScore_norm...\n",
            "Creating context feature: c5_AwayScore_norm...\n",
            "\n",
            "Saving the context-rich DataFrame to 'df_with_context0.pkl'...\n",
            "✅ Pre-processing complete! Your data is saved and ready for fast training.\n"
          ]
        }
      ]
    },
    {
      "cell_type": "code",
      "source": [
        "# ⚠️ 🔴 Lets call the df 🚨 ⚠️\n",
        "\n",
        "# 1. Cargar el DataFrame con el contexto del jugador\n",
        "df_for_player0 = pd.read_pickle(path + 'data_for_player0.pkl')\n",
        "\n",
        "# 2. DEFINIR EL UNIVERSO DE EVENTOS CORRECTO (EL QUE EL MODELO CONOCE)\n",
        "\n",
        "all_event_types_from_master = sorted(df_AEGIS_map['EventTypeId'].unique())\n",
        "#    ...y quitamos el evento 20, que sabemos que el modelo no conoce.\n",
        "event_types_for_model = [event for event in all_event_types_from_master if event != 20]\n",
        "\n",
        "# 3. Crear el class_mapping y num_classes a partir de esta lista corregida de 31 eventos\n",
        "class_mapping = {original_id: new_id for new_id, original_id in enumerate(event_types_for_model)}\n",
        "num_classes = len(class_mapping)\n",
        "\n",
        "print(\"--- Mapeo Final y Correcto Creado ---\")\n",
        "print(f\"Total de clases que el modelo entiende: {num_classes}\") # Debe imprimir 31\n",
        "\n",
        "# 4. Aplicar el mapeo a todo el DataFrame ANTES de dividirlo\n",
        "df_for_player0['EventTypeId_mapped'] = df_for_player0['EventTypeId'].map(class_mapping)\n",
        "\n",
        "# 5. Convertir la nueva columna a tipo categórico con todas las clases posibles\n",
        "all_possible_classes = list(class_mapping.values())\n",
        "df_for_player0['EventTypeId_mapped'] = pd.Categorical(df_for_player0['EventTypeId_mapped'], categories=all_possible_classes)\n",
        "\n",
        "# 6. Eliminar filas donde el mapeo podría haber fallado (si hubiera eventos extraños)\n",
        "df_for_player0.dropna(subset=['EventTypeId_mapped'], inplace=True)\n",
        "df_for_player0['EventTypeId_mapped'] = df_for_player0['EventTypeId_mapped'].astype(int)\n",
        "\n",
        "# 7. Ahora, dividir el DataFrame ya preparado en entrenamiento y validación\n",
        "all_match_ids = df_for_player0['matchId'].unique()\n",
        "train_ids, val_ids = train_test_split(all_match_ids, test_size=0.2, random_state=42)\n",
        "\n",
        "train_df = df_for_player0[df_for_player0['matchId'].isin(train_ids)]\n",
        "val_df = df_for_player0[df_for_player0['matchId'].isin(val_ids)]\n",
        "\n",
        "print(f\"\\nDivisión completa: {len(train_df)} filas de entrenamiento, {len(val_df)} filas de validación.\")"
      ],
      "metadata": {
        "colab": {
          "base_uri": "https://localhost:8080/"
        },
        "id": "drekebrqtj46",
        "outputId": "b979fd2b-b6e9-45ce-dd6f-c756b5c9c74e"
      },
      "execution_count": 13,
      "outputs": [
        {
          "output_type": "stream",
          "name": "stdout",
          "text": [
            "--- Mapeo Final y Correcto Creado ---\n",
            "Total de clases que el modelo entiende: 31\n",
            "\n",
            "División completa: 62985 filas de entrenamiento, 20711 filas de validación.\n"
          ]
        }
      ]
    },
    {
      "cell_type": "code",
      "source": [
        "finetuned_event_type_model_player0 = finetune_classifier_player_replacement(\n",
        "    train_df=train_df,\n",
        "    val_df=val_df,\n",
        "    base_model_path=path + 'event_type_model1.json',\n",
        "    new_model_path=path + 'finetuned_event_type_model_player0.json',\n",
        "    is_goal_model=False,\n",
        "    event_type_model=None,\n",
        "    num_classes=num_classes\n",
        ")\n",
        "\n",
        "# 7 min"
      ],
      "metadata": {
        "colab": {
          "base_uri": "https://localhost:8080/"
        },
        "id": "Ff82JJfQuCd8",
        "outputId": "0616f81c-8911-49bb-89bc-50efb8074138"
      },
      "execution_count": 14,
      "outputs": [
        {
          "output_type": "stream",
          "name": "stdout",
          "text": [
            "\n",
            "--- 🦾 Starting Player Replacement Fine-Tuning for: /content/drive/My Drive/Proyect_Hackathon/finetuned_event_type_model_player0.json ---\n",
            "Starting fine-tuning...\n",
            "[0]\tvalidation_0-mlogloss:5.09344\n",
            "[100]\tvalidation_0-mlogloss:2.27830\n",
            "[200]\tvalidation_0-mlogloss:1.80651\n",
            "[300]\tvalidation_0-mlogloss:1.59469\n",
            "[400]\tvalidation_0-mlogloss:1.47710\n",
            "[499]\tvalidation_0-mlogloss:1.40696\n",
            "✅ Fine-tuned model saved to: /content/drive/My Drive/Proyect_Hackathon/finetuned_event_type_model_player0.json\n"
          ]
        }
      ]
    },
    {
      "cell_type": "code",
      "source": [
        "# Save the model\n",
        "\n",
        "finetuned_event_type_model_player0.save_model(path + 'finetuned_event_type_model_player0.json')"
      ],
      "metadata": {
        "id": "LjPu5dJkTQmH"
      },
      "execution_count": 17,
      "outputs": []
    },
    {
      "cell_type": "code",
      "source": [
        "# Precharge (just in case)\n",
        "\n",
        "finetuned_event_type_model_player0.load_model(path + 'finetuned_event_type_model_player0.json')"
      ],
      "metadata": {
        "id": "CWkY1Dk5UAyW"
      },
      "execution_count": 18,
      "outputs": []
    },
    {
      "cell_type": "code",
      "source": [
        "# 🎯 FineTunning for Accuracy\n",
        "\n",
        "finetuned_accuracy_model_player0 = finetune_classifier_player_replacement(\n",
        "    train_df=train_df,\n",
        "    val_df=val_df,\n",
        "    base_model_path=path + 'accuracy_model1.json',\n",
        "    new_model_path=path + 'finetuned_accuracy_model_player0.json',\n",
        "    event_type_model=finetuned_event_type_model_player0\n",
        ")"
      ],
      "metadata": {
        "colab": {
          "base_uri": "https://localhost:8080/"
        },
        "id": "08P8SmEfTwWg",
        "outputId": "628a381f-5b53-4278-edff-0165bbcacfbb"
      },
      "execution_count": 19,
      "outputs": [
        {
          "output_type": "stream",
          "name": "stdout",
          "text": [
            "\n",
            "--- 🦾 Starting Player Replacement Fine-Tuning for: /content/drive/My Drive/Proyect_Hackathon/finetuned_accuracy_model_player0.json ---\n",
            "Generating EventType predictions for 62985 rows...\n",
            "Generating EventType predictions for 20711 rows...\n",
            "Starting fine-tuning...\n",
            "[0]\tvalidation_0-logloss:0.43203\n",
            "[100]\tvalidation_0-logloss:0.34643\n",
            "[200]\tvalidation_0-logloss:0.34297\n",
            "[202]\tvalidation_0-logloss:0.34299\n",
            "✅ Fine-tuned model saved to: /content/drive/My Drive/Proyect_Hackathon/finetuned_accuracy_model_player0.json\n"
          ]
        }
      ]
    },
    {
      "cell_type": "code",
      "source": [
        "# Save the model\n",
        "\n",
        "finetuned_accuracy_model_player0.save_model(path + 'finetuned_accuracy_model_player0.json')"
      ],
      "metadata": {
        "id": "7gQXY-uQU8mX"
      },
      "execution_count": 20,
      "outputs": []
    },
    {
      "cell_type": "code",
      "source": [
        "# Precharge the model (Just in case)\n",
        "\n",
        "finetuned_accuracy_model_player0.load_model(path + 'finetuned_accuracy_model_player0.json')"
      ],
      "metadata": {
        "id": "O0nQN84tVAAF"
      },
      "execution_count": 21,
      "outputs": []
    },
    {
      "cell_type": "code",
      "source": [
        "# ⚽ FineTunning for Goal Model\n",
        "\n",
        "finetuned_goal_model_player0 = finetune_classifier_player_replacement(\n",
        "    train_df=train_df,\n",
        "    val_df=val_df,\n",
        "    base_model_path=path + 'goal_model0.json',\n",
        "    new_model_path=path + 'finetuned_goal_model_player0.json',\n",
        "    is_goal_model=True,\n",
        "    event_type_model=finetuned_event_type_model_player0\n",
        ")"
      ],
      "metadata": {
        "colab": {
          "base_uri": "https://localhost:8080/"
        },
        "id": "2jKvIIuATjDO",
        "outputId": "833980c7-1dbb-466d-86ef-fe935c3f4585"
      },
      "execution_count": 22,
      "outputs": [
        {
          "output_type": "stream",
          "name": "stdout",
          "text": [
            "\n",
            "--- 🦾 Starting Player Replacement Fine-Tuning for: /content/drive/My Drive/Proyect_Hackathon/finetuned_goal_model_player0.json ---\n",
            "Generating EventType predictions for 62985 rows...\n",
            "Generating EventType predictions for 20711 rows...\n",
            "Starting fine-tuning...\n",
            "[0]\tvalidation_0-logloss:0.66002\n",
            "[100]\tvalidation_0-logloss:0.48566\n",
            "[200]\tvalidation_0-logloss:0.39462\n",
            "[300]\tvalidation_0-logloss:0.36019\n",
            "[400]\tvalidation_0-logloss:0.34463\n",
            "[500]\tvalidation_0-logloss:0.33301\n",
            "[600]\tvalidation_0-logloss:0.32765\n",
            "[700]\tvalidation_0-logloss:0.32336\n",
            "[800]\tvalidation_0-logloss:0.32233\n",
            "✅ Fine-tuned model saved to: /content/drive/My Drive/Proyect_Hackathon/finetuned_goal_model_player0.json\n"
          ]
        }
      ]
    },
    {
      "cell_type": "code",
      "source": [
        "# Save the model\n",
        "\n",
        "finetuned_goal_model_player0.save_model(path + 'finetuned_goal_model_player0.json')"
      ],
      "metadata": {
        "id": "wjPl-I_UVvdy"
      },
      "execution_count": 23,
      "outputs": []
    },
    {
      "cell_type": "code",
      "source": [
        "#  Precharge\n",
        "\n",
        "finetuned_goal_model_player0.load_model(path + 'finetuned_goal_model_player0.json')"
      ],
      "metadata": {
        "id": "3eXpZNL0VztC"
      },
      "execution_count": 24,
      "outputs": []
    },
    {
      "cell_type": "code",
      "source": [
        "# 📏 FineTunning for X\n",
        "\n",
        "finetuned_x_location_player0 = finetune_regressor_player_replacement(\n",
        "    train_df=train_df,\n",
        "    val_df=val_df,\n",
        "    base_model_path=path + 'x_model0.json',\n",
        "    new_model_path=path + 'finetuned_x_location_player0.json',\n",
        "    target_col='X_norm',\n",
        "    event_type_model=finetuned_event_type_model_player0\n",
        ")"
      ],
      "metadata": {
        "colab": {
          "base_uri": "https://localhost:8080/"
        },
        "id": "ILNdPbw9V6WV",
        "outputId": "9a9c9860-c04e-4fd8-8855-9ffb38bc2675"
      },
      "execution_count": 25,
      "outputs": [
        {
          "output_type": "stream",
          "name": "stdout",
          "text": [
            "\n",
            "--- 🦾 Starting Player Replacement Fine-Tuning for: /content/drive/My Drive/Proyect_Hackathon/finetuned_x_location_player0.json ---\n",
            "Generating EventType predictions for 62985 rows...\n",
            "Generating EventType predictions for 20711 rows...\n",
            "Starting fine-tuning...\n",
            "[0]\tvalidation_0-rmse:0.19105\n",
            "[100]\tvalidation_0-rmse:0.12724\n",
            "[200]\tvalidation_0-rmse:0.11410\n",
            "[300]\tvalidation_0-rmse:0.11102\n",
            "[400]\tvalidation_0-rmse:0.10984\n",
            "[499]\tvalidation_0-rmse:0.10924\n",
            "✅ Fine-tuned model saved to: /content/drive/My Drive/Proyect_Hackathon/finetuned_x_location_player0.json\n"
          ]
        }
      ]
    },
    {
      "cell_type": "code",
      "source": [
        "# Save the model\n",
        "\n",
        "finetuned_x_location_player0.save_model(path + 'finetuned_x_location_player0.json')"
      ],
      "metadata": {
        "id": "NBZrfdfiW4pG"
      },
      "execution_count": 26,
      "outputs": []
    },
    {
      "cell_type": "code",
      "source": [
        "# Precgagre jus in case we need\n",
        "\n",
        "finetuned_x_location_player0.load_model(path + 'finetuned_x_location_player0.json')"
      ],
      "metadata": {
        "id": "kk40fMAhW8aC"
      },
      "execution_count": 27,
      "outputs": []
    },
    {
      "cell_type": "code",
      "source": [
        "# 📏 FineTunning for Y\n",
        "\n",
        "finetuned_y_location_player0 = finetune_regressor_player_replacement(\n",
        "    train_df=train_df,\n",
        "    val_df=val_df,\n",
        "    base_model_path=path + 'y_model0.json',\n",
        "    new_model_path=path + 'finetuned_y_location_player0.json',\n",
        "    target_col='Y_norm',\n",
        "    event_type_model=finetuned_event_type_model_player0\n",
        ")"
      ],
      "metadata": {
        "colab": {
          "base_uri": "https://localhost:8080/"
        },
        "id": "wGv-kWYIXCv6",
        "outputId": "004f9375-423f-4104-8135-37530f15dcef"
      },
      "execution_count": 28,
      "outputs": [
        {
          "output_type": "stream",
          "name": "stdout",
          "text": [
            "\n",
            "--- 🦾 Starting Player Replacement Fine-Tuning for: /content/drive/My Drive/Proyect_Hackathon/finetuned_y_location_player0.json ---\n",
            "Generating EventType predictions for 62985 rows...\n",
            "Generating EventType predictions for 20711 rows...\n",
            "Starting fine-tuning...\n",
            "[0]\tvalidation_0-rmse:0.22680\n",
            "[100]\tvalidation_0-rmse:0.16054\n",
            "[200]\tvalidation_0-rmse:0.14800\n",
            "[300]\tvalidation_0-rmse:0.14527\n",
            "[400]\tvalidation_0-rmse:0.14440\n",
            "[499]\tvalidation_0-rmse:0.14410\n",
            "✅ Fine-tuned model saved to: /content/drive/My Drive/Proyect_Hackathon/finetuned_y_location_player0.json\n"
          ]
        }
      ]
    },
    {
      "cell_type": "code",
      "source": [
        "# Save model\n",
        "\n",
        "finetuned_y_location_player0.save_model(path + 'finetuned_y_location_player0.json')"
      ],
      "metadata": {
        "id": "u8Us2869XzUM"
      },
      "execution_count": 29,
      "outputs": []
    },
    {
      "cell_type": "code",
      "source": [
        "# Precharge\n",
        "\n",
        "finetuned_y_location_player0.load_model(path + 'finetuned_y_location_player0.json')"
      ],
      "metadata": {
        "id": "BSGms1ihX28z"
      },
      "execution_count": 30,
      "outputs": []
    },
    {
      "cell_type": "code",
      "source": [
        "# ⏱️ FineTunning for TimeDelta\n",
        "\n",
        "finetuned_timedelta_model_player0 = finetune_regressor_player_replacement(\n",
        "    train_df=train_df,\n",
        "    val_df=val_df,\n",
        "    base_model_path=path + 'timedelta_model0.json',\n",
        "    new_model_path=path + 'finetuned_timedelta_model_player0.json',\n",
        "    target_col='TimeDelta',\n",
        "    event_type_model=finetuned_event_type_model_player0\n",
        ")"
      ],
      "metadata": {
        "colab": {
          "base_uri": "https://localhost:8080/"
        },
        "id": "5mR_AFG8X6Or",
        "outputId": "e6d14aae-1885-4558-cb39-ad95a6d489f5"
      },
      "execution_count": 31,
      "outputs": [
        {
          "output_type": "stream",
          "name": "stdout",
          "text": [
            "\n",
            "--- 🦾 Starting Player Replacement Fine-Tuning for: /content/drive/My Drive/Proyect_Hackathon/finetuned_timedelta_model_player0.json ---\n",
            "Generating EventType predictions for 62985 rows...\n",
            "Generating EventType predictions for 20711 rows...\n",
            "Starting fine-tuning...\n",
            "[0]\tvalidation_0-rmse:0.62292\n",
            "[100]\tvalidation_0-rmse:0.55157\n",
            "[200]\tvalidation_0-rmse:0.53457\n",
            "[300]\tvalidation_0-rmse:0.52897\n",
            "[400]\tvalidation_0-rmse:0.52613\n",
            "[499]\tvalidation_0-rmse:0.52457\n",
            "✅ Fine-tuned model saved to: /content/drive/My Drive/Proyect_Hackathon/finetuned_timedelta_model_player0.json\n"
          ]
        }
      ]
    },
    {
      "cell_type": "code",
      "source": [
        "# Save the model\n",
        "\n",
        "finetuned_timedelta_model_player0.save_model(path + 'finetuned_timedelta_model_player0.json')"
      ],
      "metadata": {
        "id": "0lxHQK8kYp2i"
      },
      "execution_count": 32,
      "outputs": []
    },
    {
      "cell_type": "code",
      "source": [
        "# Precharge just in case\n",
        "\n",
        "finetuned_timedelta_model_player0.load_model(path + 'finetuned_timedelta_model_player0.json')"
      ],
      "metadata": {
        "id": "65jkxmH2YwnO"
      },
      "execution_count": 33,
      "outputs": []
    },
    {
      "cell_type": "code",
      "source": [
        "# Next we construct these rules we said, so, for all before we use next functions\n",
        "\n",
        "# Simulation Engine Functions\n",
        "\n",
        "def create_context_for_prediction(event_history_df, seq_len, context_features):\n",
        "    \"\"\"\n",
        "    Prepares the context from the last 'seq_len' events for a single prediction.\n",
        "    CORRECTED to remove columns the base models were not trained on.\n",
        "    \"\"\"\n",
        "    data = event_history_df.tail(seq_len).copy()\n",
        "    for i in range(1, seq_len + 1):\n",
        "        for feature in context_features:\n",
        "            new_col_name = f'c{i}_{feature}'\n",
        "            data[new_col_name] = data[feature].shift(i-1)\n",
        "\n",
        "    final_context_row = data.tail(1).copy()\n",
        "\n",
        "\n",
        "    # Add team IDs and other text columns to the list of features to drop\n",
        "    features_to_drop = context_features + [\n",
        "        'matchId', 'playerId', 'X', 'Y', 'minute', 'HomeScore', 'AwayScore', 'period',\n",
        "        'home_team_id', 'away_team_id', 'home_team_name', 'away_team_name', 'team_id'\n",
        "    ]\n",
        "\n",
        "    # Check which of the columns to be dropped actually exist to prevent errors\n",
        "    cols_to_drop_existing = [col for col in features_to_drop if col in final_context_row.columns]\n",
        "\n",
        "    X = final_context_row.drop(columns=cols_to_drop_existing)\n",
        "    return X\n",
        "\n",
        "\n",
        "def simulate_full_match_v10(initial_context_df, all_models, target_dist, events_per_half=1600, seq_len=5, goal_threshold=0.65, realism_strength=0.7):\n",
        "    \"\"\"\n",
        "    Simulates a full match combining the realism layer with \"guaranteed reception\" logic.\n",
        "    (This function remains identical to your original version)\n",
        "    \"\"\"\n",
        "    context_features = [\n",
        "        'EventTypeId', 'X_norm', 'Y_norm', 'IsHomeTeam', 'IsAccurate', 'IsGoal',\n",
        "        'TimeDelta', 'minute_norm', 'HomeScore_norm', 'AwayScore_norm'\n",
        "    ]\n",
        "    reverse_class_mapping = {v: k for k, v in all_models['class_mapping'].items()}\n",
        "    simulated_events = []\n",
        "    event_history = initial_context_df.copy()\n",
        "\n",
        "    last_event = event_history.iloc[-1]\n",
        "    home_score, away_score = 0, 0\n",
        "    current_minute = last_event['minute']\n",
        "    team_in_possession = last_event['IsHomeTeam']\n",
        "\n",
        "    pass_id = 30\n",
        "    ball_receipt_id = 42\n",
        "    turnover_ids = [2, 10, 4, 33]\n",
        "\n",
        "    force_next_event = None\n",
        "\n",
        "    for period in [1, 2]:\n",
        "        if period == 2: current_minute = 45.0\n",
        "\n",
        "        for i in range(events_per_half):\n",
        "            X_predict = create_context_for_prediction(event_history, seq_len, context_features)\n",
        "\n",
        "            if force_next_event:\n",
        "                predicted_event_type_original = force_next_event\n",
        "                for original, mapped in all_models['class_mapping'].items():\n",
        "                    if original == predicted_event_type_original:\n",
        "                        predicted_event_type_mapped = mapped\n",
        "                        break\n",
        "                force_next_event = None\n",
        "            else:\n",
        "                event_type_proba = all_models['event_type'].predict_proba(X_predict)[0]\n",
        "                adjusted_proba = np.copy(event_type_proba)\n",
        "                for new_id, original_id in reverse_class_mapping.items():\n",
        "                    if original_id == ball_receipt_id:\n",
        "                        adjusted_proba[new_id] = 0\n",
        "                        continue\n",
        "                    target_p = target_dist.get(original_id, 0)\n",
        "                    adjusted_proba[new_id] = (event_type_proba[new_id] * (1 - realism_strength)) + (target_p * realism_strength)\n",
        "\n",
        "                if adjusted_proba.sum() > 0: adjusted_proba /= adjusted_proba.sum()\n",
        "                else: adjusted_proba = np.ones(len(adjusted_proba)) / len(adjusted_proba)\n",
        "\n",
        "                predicted_event_type_mapped = np.random.choice(len(adjusted_proba), p=adjusted_proba)\n",
        "                predicted_event_type_original = reverse_class_mapping[predicted_event_type_mapped]\n",
        "\n",
        "            X_predict['predicted_EventTypeId'] = predicted_event_type_mapped\n",
        "            predicted_is_accurate = all_models['accuracy'].predict(X_predict)[0]\n",
        "\n",
        "            if predicted_event_type_original == pass_id and predicted_is_accurate == 1:\n",
        "                force_next_event = ball_receipt_id\n",
        "\n",
        "            predicted_is_goal = 0\n",
        "            if predicted_event_type_original == 16:\n",
        "                goal_probability = all_models['goal'].predict_proba(X_predict)[0][1]\n",
        "                if goal_probability > goal_threshold: predicted_is_goal = 1\n",
        "\n",
        "            x_pred_mean = all_models['x_location'].predict(X_predict)[0]\n",
        "            predicted_x_norm = np.random.normal(loc=x_pred_mean, scale=0.17)\n",
        "            y_pred_mean = all_models['y_location'].predict(X_predict)[0]\n",
        "            predicted_y_norm = np.random.normal(loc=y_pred_mean, scale=0.28)\n",
        "            timedelta_pred_log_mean = all_models['timedelta'].predict(X_predict)[0]\n",
        "            predicted_timedelta_log = np.random.normal(loc=timedelta_pred_log_mean, scale=0.44)\n",
        "            predicted_timedelta = np.expm1(predicted_timedelta_log)\n",
        "\n",
        "            if predicted_event_type_original in [30, 14, 38] and predicted_is_accurate == 0:\n",
        "                if random.random() > 0.2: team_in_possession = 1 - team_in_possession\n",
        "            elif predicted_event_type_original in turnover_ids:\n",
        "                 team_in_possession = 1 - team_in_possession\n",
        "\n",
        "            current_minute += predicted_timedelta / 60\n",
        "            if predicted_is_goal == 1:\n",
        "                if team_in_possession == 1: home_score += 1\n",
        "                else: away_score += 1\n",
        "\n",
        "            new_event = { 'period': period, 'minute': current_minute, 'EventTypeId': predicted_event_type_original,\n",
        "                          'IsAccurate': int(predicted_is_accurate), 'IsGoal': int(predicted_is_goal),\n",
        "                          'X': np.clip(predicted_x_norm, 0, 1) * 100, 'Y': np.clip(predicted_y_norm, 0, 1) * 100,\n",
        "                          'TimeDelta': np.maximum(0, predicted_timedelta), 'HomeScore': home_score, 'AwayScore': away_score,\n",
        "                          'IsHomeTeam': team_in_possession, 'playerId': -1, }\n",
        "            simulated_events.append(new_event)\n",
        "\n",
        "            new_history_row_data = new_event.copy()\n",
        "            new_history_row_data.update({ 'X_norm': new_history_row_data['X'] / 100.0, 'Y_norm': new_history_row_data['Y'] / 100.0,\n",
        "                                          'minute_norm': new_history_row_data['minute'] / 60.0,\n",
        "                                          'HomeScore_norm': new_history_row_data['HomeScore'] / 10.0, 'AwayScore_norm': new_history_row_data['AwayScore'] / 10.0 })\n",
        "            new_history_df = pd.DataFrame([new_history_row_data])\n",
        "            for col in event_history.columns:\n",
        "                if col not in new_history_df.columns: new_history_df[col] = event_history.iloc[-1][col]\n",
        "            event_history = pd.concat([event_history, new_history_df[event_history.columns]], ignore_index=True)\n",
        "\n",
        "    print(f\"✅ Match Simulation Complete! Final Score: Home {int(home_score)} - {int(away_score)} Away\")\n",
        "    return pd.DataFrame(simulated_events), (home_score, away_score)\n",
        "\n",
        "#  New Function for Player-Specific Simulation Analysis\n",
        "\n",
        "def run_player_simulation_analysis(\n",
        "    real_data_df,\n",
        "    team_id_to_analyze,\n",
        "    simulation_context_df,\n",
        "    validation_match_ids,\n",
        "    all_finetuned_models,\n",
        "    n_matches_to_simulate=20,\n",
        "    goal_threshold=0.55,\n",
        "    realism_strength=0.65\n",
        "):\n",
        "    \"\"\"\n",
        "    This function runs multiple match simulations using fine-tuned player models\n",
        "    and generates a performance report comparing simulated results to historical data.\n",
        "    \"\"\"\n",
        "    print(f\"--- 🚀 STARTING SIMULATION ANALYSIS FOR TEAM ID: {team_id_to_analyze} ---\")\n",
        "\n",
        "    # Calculate Real-World Metrics from the Last Season\n",
        "    print(\"\\n--- Calculating Real-World Performance Metrics... ---\")\n",
        "    real_team_matches = real_data_df[\n",
        "        (real_data_df['home_team_id'] == team_id_to_analyze) |\n",
        "        (real_data_df['away_team_id'] == team_id_to_analyze)\n",
        "    ]\n",
        "    real_match_ids = real_team_matches['matchId'].unique()\n",
        "    num_real_matches = len(real_match_ids)\n",
        "    total_goals_for_real, total_goals_against_real, home_wins_real, home_matches_played = 0, 0, 0, 0\n",
        "    for match_id in real_match_ids:\n",
        "        match_df = real_team_matches[real_team_matches['matchId'] == match_id]\n",
        "        final_score = match_df.iloc[-1]\n",
        "        if final_score['home_team_id'] == team_id_to_analyze:\n",
        "            home_matches_played += 1\n",
        "            total_goals_for_real += final_score['HomeScore']\n",
        "            total_goals_against_real += final_score['AwayScore']\n",
        "            if final_score['HomeScore'] > final_score['AwayScore']:\n",
        "                home_wins_real += 1\n",
        "        else:\n",
        "            total_goals_for_real += final_score['AwayScore']\n",
        "            total_goals_against_real += final_score['HomeScore']\n",
        "    avg_goals_for_real = total_goals_for_real / num_real_matches if num_real_matches > 0 else 0\n",
        "    avg_goals_against_real = total_goals_against_real / num_real_matches if num_real_matches > 0 else 0\n",
        "    home_win_perc_real = (home_wins_real / home_matches_played) * 100 if home_matches_played > 0 else 0\n",
        "\n",
        "    # Run Simulations with Fine-Tuned Models\n",
        "    target_dist = (simulation_context_df['EventTypeId'].value_counts(normalize=True)).to_dict()\n",
        "    final_scores = []\n",
        "    for i in range(n_matches_to_simulate):\n",
        "        print(f\"\\n--- Simulating Match {i+1} of {n_matches_to_simulate} ---\")\n",
        "        random_match_id = random.choice(validation_match_ids)\n",
        "        initial_context_df = real_data_df[real_data_df['matchId'] == random_match_id].head(5)\n",
        "        if len(initial_context_df) < 5:\n",
        "            print(f\"Skipping match {random_match_id}, not enough context.\")\n",
        "            continue\n",
        "        simulated_match_df, final_score = simulate_full_match_v10(\n",
        "            initial_context_df, all_finetuned_models, target_dist,\n",
        "            goal_threshold=goal_threshold, realism_strength=realism_strength\n",
        "        )\n",
        "        final_scores.append({'home_score': final_score[0], 'away_score': final_score[1]})\n",
        "\n",
        "    if not final_scores:\n",
        "        print(\"No matches were successfully simulated. Exiting.\")\n",
        "        return\n",
        "    scores_df = pd.DataFrame(final_scores)\n",
        "\n",
        "    # Generate the Final Performance Report\n",
        "    print(\"\\n\\n\" + \"=\"*50)\n",
        "    print(\"      PLAYER SIMULATION PERFORMANCE REPORT\")\n",
        "    print(\"=\"*50 + \"\\n\")\n",
        "\n",
        "    avg_goals_for_sim = scores_df['home_score'].mean()\n",
        "    print(f\"--- ⚽ Expected Goals For (Per Match) ---\")\n",
        "    print(f\"Real Season Average: {avg_goals_for_real:.2f}\")\n",
        "    print(f\"Simulated Average with New Player: {avg_goals_for_sim:.2f}\\n\")\n",
        "\n",
        "    avg_goals_against_sim = scores_df['away_score'].mean()\n",
        "    print(f\"--- 🥅 Expected Goals Against (Per Match) ---\")\n",
        "    fig, ax = plt.subplots(figsize=(8, 5))\n",
        "    categories = ['Real Season', 'Simulated']\n",
        "    values = [avg_goals_against_real, avg_goals_against_sim]\n",
        "    bars = ax.bar(categories, values, color=['gray', 'blue'])\n",
        "    ax.set_ylabel('Average Goals Conceded Per Match')\n",
        "    ax.set_title('Defensive Impact: Expected Goals Against Comparison')\n",
        "    ax.bar_label(bars, fmt='%.2f')\n",
        "    plt.show()\n",
        "\n",
        "    sim_wins = (scores_df['home_score'] > scores_df['away_score']).sum()\n",
        "    home_win_perc_sim = (sim_wins / len(scores_df)) * 100\n",
        "    print(f\"\\n--- 🏟️ Home Win Percentage ---\")\n",
        "    print(f\"Real Season Win % at Home: {home_win_perc_real:.1f}%\")\n",
        "    print(f\"Simulated Win % with New Player: {home_win_perc_sim:.1f}%\")\n",
        "    print(\"\\n\" + \"=\"*50)\n",
        "    print(\"      END OF REPORT\")\n",
        "    print(\"=\"*50)"
      ],
      "metadata": {
        "id": "AlFhpCxnas6C"
      },
      "execution_count": 55,
      "outputs": []
    },
    {
      "cell_type": "code",
      "source": [
        "# --- Assemble the dictionary with all fine-tuned models for Player 0 ---\n",
        "all_models_player0 = {\n",
        "    \"event_type\": finetuned_event_type_model_player0,\n",
        "    \"accuracy\": finetuned_accuracy_model_player0,\n",
        "    \"goal\": finetuned_goal_model_player0,\n",
        "    \"x_location\": finetuned_x_location_player0,\n",
        "    \"y_location\": finetuned_y_location_player0,\n",
        "    \"timedelta\": finetuned_timedelta_model_player0,\n",
        "    \"class_mapping\": class_mapping\n",
        "}\n",
        "\n",
        "# --- Set Simulation Parameters ---\n",
        "validation_match_ids_for_sim = val_df['matchId'].unique()\n",
        "n_simulations = 20\n",
        "goal_threshold = 0.55\n",
        "realism_strength = 0.65\n",
        "\n",
        "# --- Run the Analysis ---\n",
        "run_player_simulation_analysis(\n",
        "    real_data_df=df_AEGIS_tunning,\n",
        "    team_id_to_analyze=id_america,\n",
        "    simulation_context_df=df_for_player0,\n",
        "    validation_match_ids=validation_match_ids_for_sim,\n",
        "    all_finetuned_models=all_models_player0,\n",
        "    n_matches_to_simulate=n_simulations,\n",
        "    goal_threshold=goal_threshold,\n",
        "    realism_strength=realism_strength\n",
        ")"
      ],
      "metadata": {
        "colab": {
          "base_uri": "https://localhost:8080/",
          "height": 1000
        },
        "id": "A3X0PVbXaxEq",
        "outputId": "bdb8d9d9-cb6d-4ccd-a975-96deead72c21"
      },
      "execution_count": 56,
      "outputs": [
        {
          "output_type": "stream",
          "name": "stdout",
          "text": [
            "--- 🚀 STARTING SIMULATION ANALYSIS FOR TEAM ID: 1229 ---\n",
            "\n",
            "--- Calculating Real-World Performance Metrics... ---\n",
            "\n",
            "--- Simulating Match 1 of 20 ---\n",
            "✅ Match Simulation Complete! Final Score: Home 2 - 1 Away\n",
            "\n",
            "--- Simulating Match 2 of 20 ---\n",
            "✅ Match Simulation Complete! Final Score: Home 0 - 0 Away\n",
            "\n",
            "--- Simulating Match 3 of 20 ---\n",
            "✅ Match Simulation Complete! Final Score: Home 3 - 1 Away\n",
            "\n",
            "--- Simulating Match 4 of 20 ---\n",
            "✅ Match Simulation Complete! Final Score: Home 1 - 0 Away\n",
            "\n",
            "--- Simulating Match 5 of 20 ---\n",
            "✅ Match Simulation Complete! Final Score: Home 1 - 4 Away\n",
            "\n",
            "--- Simulating Match 6 of 20 ---\n",
            "✅ Match Simulation Complete! Final Score: Home 2 - 1 Away\n",
            "\n",
            "--- Simulating Match 7 of 20 ---\n",
            "✅ Match Simulation Complete! Final Score: Home 0 - 1 Away\n",
            "\n",
            "--- Simulating Match 8 of 20 ---\n",
            "✅ Match Simulation Complete! Final Score: Home 1 - 0 Away\n",
            "\n",
            "--- Simulating Match 9 of 20 ---\n",
            "✅ Match Simulation Complete! Final Score: Home 0 - 0 Away\n",
            "\n",
            "--- Simulating Match 10 of 20 ---\n",
            "✅ Match Simulation Complete! Final Score: Home 0 - 0 Away\n",
            "\n",
            "--- Simulating Match 11 of 20 ---\n",
            "✅ Match Simulation Complete! Final Score: Home 0 - 1 Away\n",
            "\n",
            "--- Simulating Match 12 of 20 ---\n",
            "✅ Match Simulation Complete! Final Score: Home 0 - 0 Away\n",
            "\n",
            "--- Simulating Match 13 of 20 ---\n",
            "✅ Match Simulation Complete! Final Score: Home 0 - 3 Away\n",
            "\n",
            "--- Simulating Match 14 of 20 ---\n",
            "✅ Match Simulation Complete! Final Score: Home 2 - 0 Away\n",
            "\n",
            "--- Simulating Match 15 of 20 ---\n",
            "✅ Match Simulation Complete! Final Score: Home 1 - 0 Away\n",
            "\n",
            "--- Simulating Match 16 of 20 ---\n",
            "✅ Match Simulation Complete! Final Score: Home 1 - 1 Away\n",
            "\n",
            "--- Simulating Match 17 of 20 ---\n",
            "✅ Match Simulation Complete! Final Score: Home 2 - 1 Away\n",
            "\n",
            "--- Simulating Match 18 of 20 ---\n",
            "✅ Match Simulation Complete! Final Score: Home 1 - 1 Away\n",
            "\n",
            "--- Simulating Match 19 of 20 ---\n",
            "✅ Match Simulation Complete! Final Score: Home 1 - 0 Away\n",
            "\n",
            "--- Simulating Match 20 of 20 ---\n",
            "✅ Match Simulation Complete! Final Score: Home 1 - 3 Away\n",
            "\n",
            "\n",
            "==================================================\n",
            "      PLAYER SIMULATION PERFORMANCE REPORT\n",
            "==================================================\n",
            "\n",
            "--- ⚽ Expected Goals For (Per Match) ---\n",
            "Real Season Average: 1.62\n",
            "Simulated Average with New Player: 0.95\n",
            "\n",
            "--- 🥅 Expected Goals Against (Per Match) ---\n"
          ]
        },
        {
          "output_type": "display_data",
          "data": {
            "text/plain": [
              "<Figure size 800x500 with 1 Axes>"
            ],
            "image/png": "[encoded data removed]"
          },
          "metadata": {}
        },
        {
          "output_type": "stream",
          "name": "stdout",
          "text": [
            "\n",
            "--- 🏟️ Home Win Percentage ---\n",
            "Real Season Win % at Home: 65.2%\n",
            "Simulated Win % with New Player: 45.0%\n",
            "\n",
            "==================================================\n",
            "      END OF REPORT\n",
            "==================================================\n"
          ]
        }
      ]
    }
  ]
}