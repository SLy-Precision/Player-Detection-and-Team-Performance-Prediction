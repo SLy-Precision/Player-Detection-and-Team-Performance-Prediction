{
  "nbformat": 4,
  "nbformat_minor": 0,
  "metadata": {
    "colab": {
      "provenance": [],
      "authorship_tag": "ABX9TyMnuaQSyEX4C5kBZcxJektD",
      "include_colab_link": true
    },
    "kernelspec": {
      "name": "python3",
      "display_name": "Python 3"
    },
    "language_info": {
      "name": "python"
    }
  },
  "cells": [
    {
      "cell_type": "markdown",
      "metadata": {
        "id": "view-in-github",
        "colab_type": "text"
      },
      "source": [
        "<a href=\"https://colab.research.google.com/github/SLy-Precision/Player-Detection-and-Team-Performance-Prediction/blob/main/04_AEGIS_Simulations.ipynb\" target=\"_parent\"><img src=\"https://colab.research.google.com/assets/colab-badge.svg\" alt=\"Open In Colab\"/></a>"
      ]
    },
    {
      "cell_type": "markdown",
      "source": [
        "# 🤖 🔮 AEGIS Simulations 🧪 🎰"
      ],
      "metadata": {
        "id": "-7m-CPd1rnnV"
      }
    },
    {
      "cell_type": "markdown",
      "source": [
        "## ⚽ Once we did the scouting using advanced metrics (KPI's) now its time to fine-tunning teams with the new player in roster, here we are gonna get the proyections of performance of Club America with these additions 🕹️"
      ],
      "metadata": {
        "id": "8ZxcGhB_roNf"
      }
    },
    {
      "cell_type": "code",
      "source": [
        "# Lets import the libraries we are gonna use 🐍\n",
        "\n",
        "# Statsbomb api and more\n",
        "!pip install --quiet statsbombpy\n",
        "!pip install --quiet mplsoccer\n",
        "!pip install --quiet highlight_text\n",
        "!pip install --quiet xgboost\n",
        "\n",
        "# Libraries for the data manipulation and plot\n",
        "from statsbombpy import sb\n",
        "from tqdm import tqdm\n",
        "import pandas as pd\n",
        "from mplsoccer import VerticalPitch, Pitch, Sbapi\n",
        "from highlight_text import ax_text, fig_text\n",
        "from matplotlib.colors import LinearSegmentedColormap\n",
        "import matplotlib.pyplot as plt\n",
        "import matplotlib.patheffects as path_effects\n",
        "import seaborn as sns\n",
        "import numpy as np\n",
        "from collections import defaultdict\n",
        "from collections import Counter\n",
        "from itertools import groupby\n",
        "from mplsoccer import Pitch\n",
        "import random\n",
        "\n",
        "# Machine Learning\n",
        "\n",
        "from sklearn.model_selection import train_test_split\n",
        "import xgboost as xgb\n",
        "from sklearn.utils.class_weight import compute_sample_weight\n",
        "import matplotlib.pyplot as plt"
      ],
      "metadata": {
        "id": "-oalE_lQroZx"
      },
      "execution_count": 4,
      "outputs": []
    },
    {
      "cell_type": "code",
      "source": [
        "# Access to drive and files\n",
        "\n",
        "from google.colab import drive\n",
        "drive.mount('/content/drive')\n",
        "\n",
        "path = '/content/drive/My Drive/Proyect_Hackathon/'\n",
        "\n",
        "# Data needed\n",
        "\n",
        "df_AEGIS_simulation = pd.read_pickle(path + 'df_with_context0.pkl')"
      ],
      "metadata": {
        "colab": {
          "base_uri": "https://localhost:8080/"
        },
        "id": "FscYehoGsuoL",
        "outputId": "3676f6b7-b6c7-4504-f457-0aec2029c34e"
      },
      "execution_count": 5,
      "outputs": [
        {
          "output_type": "stream",
          "name": "stdout",
          "text": [
            "Drive already mounted at /content/drive; to attempt to forcibly remount, call drive.mount(\"/content/drive\", force_remount=True).\n"
          ]
        }
      ]
    },
    {
      "cell_type": "code",
      "source": [
        "id_america = 1229\n",
        "team_name_prefix = 'club_america'"
      ],
      "metadata": {
        "id": "S6BxWU0TUnHO"
      },
      "execution_count": 7,
      "outputs": []
    },
    {
      "cell_type": "markdown",
      "source": [
        "### 🤼‍♀ Analysis of Substitutions"
      ],
      "metadata": {
        "id": "HvNQvFT0Hlga"
      }
    },
    {
      "cell_type": "code",
      "source": [
        "array_recomendations = []\n",
        "array_replaced = []"
      ],
      "metadata": {
        "id": "qvb8AtUwHppY"
      },
      "execution_count": null,
      "outputs": []
    },
    {
      "cell_type": "code",
      "source": [
        "# Lets see how many events had every player agains his replacement in tournament and verify coherence in substitutions"
      ],
      "metadata": {
        "id": "BG9YZxtMIqsq"
      },
      "execution_count": null,
      "outputs": []
    },
    {
      "cell_type": "markdown",
      "source": [
        "## ⚠️ Simulation Player 1:"
      ],
      "metadata": {
        "id": "ZgnnXfUtHYmK"
      }
    },
    {
      "cell_type": "code",
      "source": [],
      "metadata": {
        "id": "SBQG2AIPHifr"
      },
      "execution_count": null,
      "outputs": []
    }
  ]
}